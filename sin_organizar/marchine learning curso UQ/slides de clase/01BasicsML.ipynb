{
  "nbformat": 4,
  "nbformat_minor": 0,
  "metadata": {
    "colab": {
      "provenance": [],
      "toc_visible": true
    },
    "kernelspec": {
      "name": "python3",
      "display_name": "Python 3"
    }
  },
  "cells": [
    {
      "cell_type": "markdown",
      "metadata": {
        "id": "HYXJuZ4NWtJQ"
      },
      "source": [
        "#Python basics\n",
        "\n",
        "Import libraries to work with:\n",
        "\n",
        "```import nombre_libreria as apodo``` to be used as ```apodo.method```, ```apodo.class``` or ```apodo.attribute```\n",
        "\n",
        "```from nombre_libreria import elemento as apodo``` to be used as ```apodo.method```, ```apodo.class``` or ```apodo.attribute```\n",
        "\n",
        "\n",
        "\n"
      ]
    },
    {
      "cell_type": "code",
      "metadata": {
        "id": "usA_YlhpTMda"
      },
      "source": [
        "import numpy as np #Librería de operaciones numéricas\n",
        "import matplotlib.pyplot as plt  #Librería de graficación"
      ],
      "execution_count": null,
      "outputs": []
    },
    {
      "cell_type": "markdown",
      "source": [
        "For instance, compute $sin(2\\pi)$:"
      ],
      "metadata": {
        "id": "FbeJIMZ1vRHP"
      }
    },
    {
      "cell_type": "code",
      "metadata": {
        "colab": {
          "base_uri": "https://localhost:8080/"
        },
        "id": "zWBMxxojH_vZ",
        "outputId": "f156ba7e-65c7-48bf-d280-fa10dd72ae3a"
      },
      "source": [
        "np.sin(np.pi)"
      ],
      "execution_count": null,
      "outputs": [
        {
          "output_type": "execute_result",
          "data": {
            "text/plain": [
              "1.2246467991473532e-16"
            ]
          },
          "metadata": {},
          "execution_count": 2
        }
      ]
    },
    {
      "cell_type": "markdown",
      "source": [
        "Most of the models are already implemented as classes. So, a class (with arguments, attributes, and methods) is defined as:"
      ],
      "metadata": {
        "id": "U13yXoI4vdRF"
      }
    },
    {
      "cell_type": "code",
      "metadata": {
        "id": "nrcsJhunyJoL",
        "colab": {
          "base_uri": "https://localhost:8080/"
        },
        "outputId": "f8d7b406-f57a-4d02-fd1e-3342db25360e"
      },
      "source": [
        "class Person():\n",
        "  #__init__: método\n",
        "  def __init__(self,name,age=0,nat=None): #name argumento\n",
        "    self.name = name #self.age atributo\n",
        "    self.age = age\n",
        "    self.nat = nat\n",
        "  def introduce(self,lang='en'):\n",
        "    if lang == 'es':\n",
        "      print('Buenas. Mi nombre es',self.name)\n",
        "      print('Tengo',self.age)\n",
        "      if self.nat is not None:\n",
        "        print('Soy de {}'.format(self.nat))\n",
        "    elif lang == 'en':\n",
        "      print('Hi! My name is',self.name,'\\nI am {} y/o'.format(self.age))\n",
        "      if self.nat is not None:\n",
        "        print('I am from {}'.format(self.nat))\n",
        "\n",
        "p1 = Person('Mauricio',5,'FR') #Objeto\n",
        "p2 = Person('Camila',4)\n",
        "p3 = Person('Bryan',nat='US',age=1)\n",
        "\n",
        "print(p1.nat)\n",
        "p1.name, p1.age\n",
        "p2.name, p2.age\n",
        "\n",
        "p2.introduce()\n",
        "p1.introduce('es')\n",
        "p3.introduce()"
      ],
      "execution_count": null,
      "outputs": [
        {
          "output_type": "stream",
          "name": "stdout",
          "text": [
            "FR\n",
            "Hi! My name is Camila \n",
            "I am 4 y/o\n",
            "Buenas. Mi nombre es Mauricio\n",
            "Tengo 5\n",
            "Soy de FR\n",
            "Hi! My name is Bryan \n",
            "I am 1 y/o\n",
            "I am from US\n"
          ]
        }
      ]
    },
    {
      "cell_type": "markdown",
      "metadata": {
        "id": "cQou6z4EX734"
      },
      "source": [
        "##Arrays\n",
        "An array object represents a multidimensional, homogeneous array of fixed-size items. An associated data-type object describes the format of each element in the array (its byte-order, how many bytes it occupies in memory, whether it is an integer, a floating point number, or something else, etc.)\n",
        "[numpy ndarray.](https://numpy.org/doc/stable/reference/generated/numpy.ndarray.html)\n",
        "\n",
        "Some useful methods and attributes are the following:"
      ]
    },
    {
      "cell_type": "code",
      "metadata": {
        "id": "k0640eUCTbfK",
        "colab": {
          "base_uri": "https://localhost:8080/"
        },
        "outputId": "b68a167d-2a32-4a02-9abe-fac103f85cc5"
      },
      "source": [
        "X = np.arange(-1,9,2)\n",
        "print(X)\n",
        "print(X.size)\n",
        "print(X.shape)"
      ],
      "execution_count": null,
      "outputs": [
        {
          "output_type": "stream",
          "name": "stdout",
          "text": [
            "[-1  1  3  5  7]\n",
            "5\n",
            "(5,)\n"
          ]
        }
      ]
    },
    {
      "cell_type": "code",
      "metadata": {
        "id": "F3_AiEriTlbQ",
        "colab": {
          "base_uri": "https://localhost:8080/"
        },
        "outputId": "e2924020-304a-4bf6-a1b8-f36a7471eac0"
      },
      "source": [
        "A = np.arange(1,13,0.5).reshape((6,4))\n",
        "print(A)\n",
        "print(A.size,A.shape)"
      ],
      "execution_count": null,
      "outputs": [
        {
          "output_type": "stream",
          "name": "stdout",
          "text": [
            "[[ 1.   1.5  2.   2.5]\n",
            " [ 3.   3.5  4.   4.5]\n",
            " [ 5.   5.5  6.   6.5]\n",
            " [ 7.   7.5  8.   8.5]\n",
            " [ 9.   9.5 10.  10.5]\n",
            " [11.  11.5 12.  12.5]]\n",
            "24 (6, 4)\n"
          ]
        }
      ]
    },
    {
      "cell_type": "code",
      "source": [
        "B = np.linspace(0,10,6)\n",
        "print(B)"
      ],
      "metadata": {
        "colab": {
          "base_uri": "https://localhost:8080/"
        },
        "id": "J-nZP5oPoz-O",
        "outputId": "8933725d-ac27-4dc2-cf04-c9661a71ab00"
      },
      "execution_count": null,
      "outputs": [
        {
          "output_type": "stream",
          "name": "stdout",
          "text": [
            "[ 0.  2.  4.  6.  8. 10.]\n"
          ]
        }
      ]
    },
    {
      "cell_type": "code",
      "metadata": {
        "id": "7JqVbxc1Ttqx",
        "colab": {
          "base_uri": "https://localhost:8080/"
        },
        "outputId": "90424266-5227-40c9-efed-a9649faab6e6"
      },
      "source": [
        "Z = np.zeros((4,3,5))\n",
        "Z"
      ],
      "execution_count": null,
      "outputs": [
        {
          "output_type": "execute_result",
          "data": {
            "text/plain": [
              "array([[[0., 0., 0., 0., 0.],\n",
              "        [0., 0., 0., 0., 0.],\n",
              "        [0., 0., 0., 0., 0.]],\n",
              "\n",
              "       [[0., 0., 0., 0., 0.],\n",
              "        [0., 0., 0., 0., 0.],\n",
              "        [0., 0., 0., 0., 0.]],\n",
              "\n",
              "       [[0., 0., 0., 0., 0.],\n",
              "        [0., 0., 0., 0., 0.],\n",
              "        [0., 0., 0., 0., 0.]],\n",
              "\n",
              "       [[0., 0., 0., 0., 0.],\n",
              "        [0., 0., 0., 0., 0.],\n",
              "        [0., 0., 0., 0., 0.]]])"
            ]
          },
          "metadata": {},
          "execution_count": 70
        }
      ]
    },
    {
      "cell_type": "code",
      "metadata": {
        "id": "dsOWyNjcYCjw",
        "colab": {
          "base_uri": "https://localhost:8080/"
        },
        "outputId": "ea27bd20-55c5-4d98-b60d-d0815b54815a"
      },
      "source": [
        "NUM_VIDEOS,TIME,ROW,COL,COLOR = 10,5,30,40,3\n",
        "U = np.ones((NUM_VIDEOS,TIME,ROW,COL,COLOR))\n",
        "U.shape"
      ],
      "execution_count": null,
      "outputs": [
        {
          "output_type": "execute_result",
          "data": {
            "text/plain": [
              "(10, 5, 30, 40, 3)"
            ]
          },
          "metadata": {},
          "execution_count": 82
        }
      ]
    },
    {
      "cell_type": "code",
      "metadata": {
        "id": "fkfsO8E_YDxq",
        "colab": {
          "base_uri": "https://localhost:8080/"
        },
        "outputId": "5b467ab1-0e69-48db-983d-e9b77a53cae2"
      },
      "source": [
        "R = np.random.normal(loc=10,scale=0.1,size=(6,6))\n",
        "R"
      ],
      "execution_count": null,
      "outputs": [
        {
          "output_type": "execute_result",
          "data": {
            "text/plain": [
              "array([[10.03946913,  9.90210018,  9.91477262, 10.03375031,  9.94969246,\n",
              "         9.98518912],\n",
              "       [10.08903823, 10.10489901, 10.00118954,  9.963903  ,  9.81362952,\n",
              "        10.12295407],\n",
              "       [10.06143854,  9.91299008, 10.23846475,  9.93034539,  9.9118524 ,\n",
              "         9.9259817 ],\n",
              "       [ 9.89207413,  9.95662514, 10.03022034,  9.96775452, 10.08348977,\n",
              "         9.91083975],\n",
              "       [10.02513434,  9.98297807,  9.71656678, 10.04041106,  9.77508264,\n",
              "         9.94458787],\n",
              "       [ 9.98004296, 10.02446648, 10.16010786,  9.70280991,  9.92937072,\n",
              "         9.8105078 ]])"
            ]
          },
          "metadata": {},
          "execution_count": 8
        }
      ]
    },
    {
      "cell_type": "markdown",
      "metadata": {
        "id": "jOpjzylm6Kh2"
      },
      "source": [
        "##Lists:\n",
        "Lists are used to store multiple items in a single variable."
      ]
    },
    {
      "cell_type": "code",
      "metadata": {
        "id": "q9WJPEWj6Npq",
        "colab": {
          "base_uri": "https://localhost:8080/"
        },
        "outputId": "35bcac56-bc3e-4079-ec84-9e46f2a442bb"
      },
      "source": [
        "lista1 = ['a','b',123,p1]\n",
        "print(lista1)\n",
        "print(lista1[2])\n",
        "\n",
        "lista2=[p1,p2,p3]\n",
        "print(lista2)\n",
        "\n",
        "for i in [0,1,2]:\n",
        "  lista2[i].introduce()\n",
        "\n",
        "for i in np.arange(len(lista2)):\n",
        "  lista2[i].introduce()\n",
        "\n",
        "for persona in lista2:\n",
        "  persona.introduce()\n",
        "\n",
        "for i,persona in enumerate(lista2):\n",
        "  print(i)\n",
        "  persona.introduce()\n",
        "\n",
        "\n",
        "letras = ['a','b','c']\n",
        "numeros = ['10','20','30']\n",
        "\n",
        "for l,n,p in zip(letras,numeros,lista2):\n",
        "  print(l,n)\n",
        "  print(p.introduce())\n"
      ],
      "execution_count": null,
      "outputs": [
        {
          "output_type": "stream",
          "name": "stdout",
          "text": [
            "['a', 'b', 123, <__main__.Person object at 0x7f04ca082290>]\n",
            "123\n",
            "[<__main__.Person object at 0x7f04ca082290>, <__main__.Person object at 0x7f04ca082250>, <__main__.Person object at 0x7f04ca0820d0>]\n",
            "Hi! My name is Mauricio \n",
            "I am 5 y/o\n",
            "I am from FR\n",
            "Hi! My name is Camila \n",
            "I am 4 y/o\n",
            "Hi! My name is Bryan \n",
            "I am 1 y/o\n",
            "I am from US\n",
            "Hi! My name is Mauricio \n",
            "I am 5 y/o\n",
            "I am from FR\n",
            "Hi! My name is Camila \n",
            "I am 4 y/o\n",
            "Hi! My name is Bryan \n",
            "I am 1 y/o\n",
            "I am from US\n",
            "Hi! My name is Mauricio \n",
            "I am 5 y/o\n",
            "I am from FR\n",
            "Hi! My name is Camila \n",
            "I am 4 y/o\n",
            "Hi! My name is Bryan \n",
            "I am 1 y/o\n",
            "I am from US\n",
            "0\n",
            "Hi! My name is Mauricio \n",
            "I am 5 y/o\n",
            "I am from FR\n",
            "1\n",
            "Hi! My name is Camila \n",
            "I am 4 y/o\n",
            "2\n",
            "Hi! My name is Bryan \n",
            "I am 1 y/o\n",
            "I am from US\n",
            "a 10\n",
            "Hi! My name is Mauricio \n",
            "I am 5 y/o\n",
            "I am from FR\n",
            "None\n",
            "b 20\n",
            "Hi! My name is Camila \n",
            "I am 4 y/o\n",
            "None\n",
            "c 30\n",
            "Hi! My name is Bryan \n",
            "I am 1 y/o\n",
            "I am from US\n",
            "None\n"
          ]
        }
      ]
    },
    {
      "cell_type": "markdown",
      "source": [
        "A list comprehension embeds for loops while building lists:"
      ],
      "metadata": {
        "id": "8UtuXyk7xhnY"
      }
    },
    {
      "cell_type": "code",
      "metadata": {
        "id": "ia2Cwj756-Ed",
        "colab": {
          "base_uri": "https://localhost:8080/"
        },
        "outputId": "dd7d22c1-114b-4e6d-e914-981eb8022c61"
      },
      "source": [
        "lista3 = []\n",
        "for i in np.arange(11):\n",
        "  lista3.append(i**2)\n",
        "  print(lista3)\n",
        "\n",
        "lista3 = [i**2 for i in np.arange(11)]\n",
        "print(lista3)\n",
        "\n",
        "lista3 = [i**2 for i in np.arange(11) if i**2>20]\n",
        "print(lista3)\n",
        "\n",
        "lista3 = [i**2 if i**2>20 else -10 for i in np.arange(11) ]\n",
        "print(lista3)\n"
      ],
      "execution_count": null,
      "outputs": [
        {
          "output_type": "stream",
          "name": "stdout",
          "text": [
            "[0]\n",
            "[0, 1]\n",
            "[0, 1, 4]\n",
            "[0, 1, 4, 9]\n",
            "[0, 1, 4, 9, 16]\n",
            "[0, 1, 4, 9, 16, 25]\n",
            "[0, 1, 4, 9, 16, 25, 36]\n",
            "[0, 1, 4, 9, 16, 25, 36, 49]\n",
            "[0, 1, 4, 9, 16, 25, 36, 49, 64]\n",
            "[0, 1, 4, 9, 16, 25, 36, 49, 64, 81]\n",
            "[0, 1, 4, 9, 16, 25, 36, 49, 64, 81, 100]\n",
            "[0, 1, 4, 9, 16, 25, 36, 49, 64, 81, 100]\n",
            "[25, 36, 49, 64, 81, 100]\n",
            "[-10, -10, -10, -10, -10, 25, 36, 49, 64, 81, 100]\n"
          ]
        }
      ]
    },
    {
      "cell_type": "markdown",
      "source": [
        "A numpy array can be built from lists of lists of lists.... of scalars."
      ],
      "metadata": {
        "id": "3IhGvtU5xwpZ"
      }
    },
    {
      "cell_type": "code",
      "metadata": {
        "id": "zX3ESa4VUABh",
        "colab": {
          "base_uri": "https://localhost:8080/"
        },
        "outputId": "d9ec1bc5-9ec0-4a53-e02b-bd06def4e5d1"
      },
      "source": [
        "X = np.array([[5,1],[-9,3],[40,1.1],[0.5,7],[1,2]])\n",
        "print(X)\n",
        "print(X.shape)"
      ],
      "execution_count": null,
      "outputs": [
        {
          "output_type": "stream",
          "name": "stdout",
          "text": [
            "[[ 5.   1. ]\n",
            " [-9.   3. ]\n",
            " [40.   1.1]\n",
            " [ 0.5  7. ]\n",
            " [ 1.   2. ]]\n",
            "(5, 2)\n"
          ]
        }
      ]
    },
    {
      "cell_type": "markdown",
      "source": [
        "## Dictionaries\n",
        "\n",
        "Dictionaries are used to store data values in key:value pairs.\n",
        "\n",
        "A dictionary is a collection which is ordered*, changeable and do not allow duplicates."
      ],
      "metadata": {
        "id": "ppISwZBOxYKd"
      }
    },
    {
      "cell_type": "code",
      "source": [
        "P1 = {'name':'Luis',\n",
        "      'age':15,\n",
        "      'age':38,\n",
        "}\n",
        "\n",
        "P1['age']+=1\n",
        "print(P1)\n",
        "\n",
        "P1['lastname'] = 'Hernandez'\n",
        "print(P1)"
      ],
      "metadata": {
        "id": "_CxycnYvx49-",
        "colab": {
          "base_uri": "https://localhost:8080/"
        },
        "outputId": "d9fa3946-7931-4377-992b-7ec9e9e35aed"
      },
      "execution_count": null,
      "outputs": [
        {
          "output_type": "stream",
          "name": "stdout",
          "text": [
            "{'name': 'Luis', 'age': 39}\n",
            "{'name': 'Luis', 'age': 39, 'lastname': 'Hernandez'}\n"
          ]
        }
      ]
    },
    {
      "cell_type": "markdown",
      "metadata": {
        "id": "kMC-5F9hUHex"
      },
      "source": [
        "##Operations"
      ]
    },
    {
      "cell_type": "markdown",
      "source": [
        "### Unary Operations"
      ],
      "metadata": {
        "id": "Dp-EXeaOyXZE"
      }
    },
    {
      "cell_type": "code",
      "metadata": {
        "id": "kVjRFXJJUP7B",
        "colab": {
          "base_uri": "https://localhost:8080/"
        },
        "outputId": "5e8e7339-a845-449c-bbd8-905996e759e0"
      },
      "source": [
        "x = np.arange(0,100,2)\n",
        "np.exp(x),np.cos(x) #unary"
      ],
      "execution_count": null,
      "outputs": [
        {
          "output_type": "execute_result",
          "data": {
            "text/plain": [
              "(array([1.00000000e+00, 7.38905610e+00, 5.45981500e+01, 4.03428793e+02,\n",
              "        2.98095799e+03, 2.20264658e+04, 1.62754791e+05, 1.20260428e+06,\n",
              "        8.88611052e+06, 6.56599691e+07, 4.85165195e+08, 3.58491285e+09,\n",
              "        2.64891221e+10, 1.95729609e+11, 1.44625706e+12, 1.06864746e+13,\n",
              "        7.89629602e+13, 5.83461743e+14, 4.31123155e+15, 3.18559318e+16,\n",
              "        2.35385267e+17, 1.73927494e+18, 1.28516001e+19, 9.49611942e+19,\n",
              "        7.01673591e+20, 5.18470553e+21, 3.83100800e+22, 2.83075330e+23,\n",
              "        2.09165950e+24, 1.54553894e+25, 1.14200739e+26, 8.43835667e+26,\n",
              "        6.23514908e+27, 4.60718663e+28, 3.40427605e+29, 2.51543867e+30,\n",
              "        1.85867175e+31, 1.37338298e+32, 1.01480039e+33, 7.49841700e+33,\n",
              "        5.54062238e+34, 4.09399696e+35, 3.02507732e+36, 2.23524660e+37,\n",
              "        1.65163625e+38, 1.22040329e+39, 9.01762841e+39, 6.66317622e+40,\n",
              "        4.92345829e+41, 3.63797095e+42]),\n",
              " array([ 1.        , -0.41614684, -0.65364362,  0.96017029, -0.14550003,\n",
              "        -0.83907153,  0.84385396,  0.13673722, -0.95765948,  0.66031671,\n",
              "         0.40808206, -0.99996083,  0.42417901,  0.64691932, -0.96260587,\n",
              "         0.15425145,  0.83422336, -0.84857027, -0.12796369,  0.95507364,\n",
              "        -0.66693806, -0.39998531,  0.99984331, -0.43217794, -0.64014434,\n",
              "         0.96496603, -0.16299078, -0.82930983,  0.85322011,  0.11918014,\n",
              "        -0.95241298,  0.67350716,  0.39185723, -0.99964746,  0.44014302,\n",
              "         0.6333192 , -0.96725059,  0.17171734,  0.82433133, -0.85780309,\n",
              "        -0.11038724,  0.9496777 , -0.6800235 , -0.38369844,  0.99937328,\n",
              "        -0.44807362, -0.62644445,  0.96945937, -0.18043045, -0.81928825]))"
            ]
          },
          "metadata": {},
          "execution_count": 15
        }
      ]
    },
    {
      "cell_type": "markdown",
      "source": [
        "### Binary Operations"
      ],
      "metadata": {
        "id": "YEGOWfK5ybBl"
      }
    },
    {
      "cell_type": "code",
      "metadata": {
        "id": "JT-lsxj5UI8j",
        "colab": {
          "base_uri": "https://localhost:8080/"
        },
        "outputId": "3a89215d-3561-4161-c0bb-ca844f1d88f9"
      },
      "source": [
        "x = np.array([1, 2, 4, 8])\n",
        "y = np.array([2, 2, 2, 2])\n",
        "x+y,x*y,x/y,x**y"
      ],
      "execution_count": null,
      "outputs": [
        {
          "output_type": "execute_result",
          "data": {
            "text/plain": [
              "(array([ 3,  4,  6, 10]),\n",
              " array([ 2,  4,  8, 16]),\n",
              " array([0.5, 1. , 2. , 4. ]),\n",
              " array([ 1,  4, 16, 64]))"
            ]
          },
          "metadata": {},
          "execution_count": 18
        }
      ]
    },
    {
      "cell_type": "code",
      "metadata": {
        "colab": {
          "base_uri": "https://localhost:8080/"
        },
        "id": "5WxqqeW4Q9wM",
        "outputId": "cf49f8ec-f23b-4b41-d0d5-2d021fd120ac"
      },
      "source": [
        "x = np.array([1, 2, 4, 8])\n",
        "y = 3\n",
        "x+y,x*y,x/y,x**y"
      ],
      "execution_count": null,
      "outputs": [
        {
          "output_type": "execute_result",
          "data": {
            "text/plain": [
              "(array([ 4,  5,  7, 11]),\n",
              " array([ 3,  6, 12, 24]),\n",
              " array([0.33333333, 0.66666667, 1.33333333, 2.66666667]),\n",
              " array([  1,   8,  64, 512]))"
            ]
          },
          "metadata": {},
          "execution_count": 19
        }
      ]
    },
    {
      "cell_type": "markdown",
      "source": [
        "There is a method for concatenating two or more arrays along a given axis:"
      ],
      "metadata": {
        "id": "_gYx5nEVytDl"
      }
    },
    {
      "cell_type": "code",
      "metadata": {
        "id": "RWyTsMJuUUBo",
        "colab": {
          "base_uri": "https://localhost:8080/"
        },
        "outputId": "671d025e-557b-445c-e2a4-19abf16fc283"
      },
      "source": [
        "X = np.arange(12).reshape(3, 4)\n",
        "print('X:',X.shape)\n",
        "print(X)\n",
        "Y = np.array([[2, 1, 4, 3], [1, 2, 3, 4], [4, 3, 2, 1]])\n",
        "print('Y:',Y.shape)\n",
        "print(Y)\n",
        "\n",
        "#  5 x 2\n",
        "# 10 x 2\n",
        "#--------\n",
        "# 15 x 2\n",
        "\n",
        "# 30 x 8\n",
        "# 30 x 4\n",
        "#-------\n",
        "# 30 x 12\n",
        "\n",
        "# 5 x 6 x 500\n",
        "# 5 x 6 x 1000\n",
        "#--------------\n",
        "# 5 x 6 x 1500\n",
        "\n",
        "Z=np.concatenate((X,Y))\n",
        "print(Z.shape)\n",
        "NZ=np.concatenate((X,Y),axis=1)\n",
        "print(NZ.shape)"
      ],
      "execution_count": null,
      "outputs": [
        {
          "output_type": "stream",
          "name": "stdout",
          "text": [
            "X: (3, 4)\n",
            "[[ 0  1  2  3]\n",
            " [ 4  5  6  7]\n",
            " [ 8  9 10 11]]\n",
            "Y: (3, 4)\n",
            "[[2 1 4 3]\n",
            " [1 2 3 4]\n",
            " [4 3 2 1]]\n",
            "(6, 4)\n",
            "(3, 8)\n"
          ]
        }
      ]
    },
    {
      "cell_type": "markdown",
      "metadata": {
        "id": "d7lFb8Z-Ygmg"
      },
      "source": [
        "Logical operations are also element-wise applied:"
      ]
    },
    {
      "cell_type": "code",
      "metadata": {
        "id": "-pThBqwqU4ng",
        "colab": {
          "base_uri": "https://localhost:8080/"
        },
        "outputId": "ab603436-9e53-428c-8a1f-4f4204bbb3d1"
      },
      "source": [
        "X == 4"
      ],
      "execution_count": null,
      "outputs": [
        {
          "output_type": "execute_result",
          "data": {
            "text/plain": [
              "array([[False, False, False, False],\n",
              "       [ True, False, False, False],\n",
              "       [False, False, False, False]])"
            ]
          },
          "metadata": {},
          "execution_count": 24
        }
      ]
    },
    {
      "cell_type": "code",
      "metadata": {
        "colab": {
          "base_uri": "https://localhost:8080/"
        },
        "id": "3N3zxxUQUlY6",
        "outputId": "6fcb9095-0da4-4960-b2d8-57b2e08133fb"
      },
      "source": [
        "X != Y"
      ],
      "execution_count": null,
      "outputs": [
        {
          "output_type": "execute_result",
          "data": {
            "text/plain": [
              "array([[ True, False,  True, False],\n",
              "       [ True,  True,  True,  True],\n",
              "       [ True,  True,  True,  True]])"
            ]
          },
          "metadata": {},
          "execution_count": 25
        }
      ]
    },
    {
      "cell_type": "markdown",
      "metadata": {
        "id": "LCN6wA5OYmyQ"
      },
      "source": [
        "Numpy arrays are objects with useful methods:"
      ]
    },
    {
      "cell_type": "code",
      "metadata": {
        "id": "FsYwwfo2U9SR",
        "colab": {
          "base_uri": "https://localhost:8080/"
        },
        "outputId": "153eb846-8277-4a72-d503-c356e198aff9"
      },
      "source": [
        "np.sum(X)\n",
        "X.sum()\n",
        "X.mean()\n",
        "X.var()\n",
        "M=X.mean(axis=0)\n",
        "print(M,M.shape)"
      ],
      "execution_count": null,
      "outputs": [
        {
          "output_type": "stream",
          "name": "stdout",
          "text": [
            "[4. 5. 6. 7.] (4,)\n"
          ]
        }
      ]
    },
    {
      "cell_type": "markdown",
      "metadata": {
        "id": "coqO_N2KVNJC"
      },
      "source": [
        "##Broadcasting\n",
        "\n",
        "This property propagates (when possible) a binary operation:"
      ]
    },
    {
      "cell_type": "code",
      "metadata": {
        "id": "tenVu5YrVOsC",
        "colab": {
          "base_uri": "https://localhost:8080/"
        },
        "outputId": "23aa1acd-3766-46a0-daab-c6310e4fafe7"
      },
      "source": [
        "a = np.arange(3).reshape(3, 1)\n",
        "b = np.array([-1,0,1]).reshape(1,3)\n",
        "print('a:',a.shape,type(a))\n",
        "print(a)\n",
        "print('b:',b.shape)\n",
        "print(b)"
      ],
      "execution_count": null,
      "outputs": [
        {
          "output_type": "stream",
          "name": "stdout",
          "text": [
            "a: (3, 1) <class 'numpy.ndarray'>\n",
            "[[0]\n",
            " [1]\n",
            " [2]]\n",
            "b: (1, 3)\n",
            "[[-1  0  1]]\n"
          ]
        }
      ]
    },
    {
      "cell_type": "code",
      "metadata": {
        "id": "oN2xxyYRVYeB",
        "colab": {
          "base_uri": "https://localhost:8080/"
        },
        "outputId": "3c80415d-c5fb-4a89-cb6f-fd33bd7fc7a0"
      },
      "source": [
        "C = a+b\n",
        "print('C:',C.shape,type(C))\n",
        "print(C)"
      ],
      "execution_count": null,
      "outputs": [
        {
          "output_type": "stream",
          "name": "stdout",
          "text": [
            "C: (3, 3) <class 'numpy.ndarray'>\n",
            "[[-1  0  1]\n",
            " [ 0  1  2]\n",
            " [ 1  2  3]]\n"
          ]
        }
      ]
    },
    {
      "cell_type": "markdown",
      "metadata": {
        "id": "Oz3JwiPgVo-B"
      },
      "source": [
        "##Indexing and slicing\n",
        "\n",
        "\n"
      ]
    },
    {
      "cell_type": "code",
      "metadata": {
        "id": "9mdvrRHaVqrZ",
        "colab": {
          "base_uri": "https://localhost:8080/"
        },
        "outputId": "d53aae7f-c819-4504-9ac7-4611ab46f72b"
      },
      "source": [
        "print(X)\n",
        "print(X[1])\n",
        "print(X[1,2])\n",
        "print(X[1][2])\n"
      ],
      "execution_count": null,
      "outputs": [
        {
          "output_type": "stream",
          "name": "stdout",
          "text": [
            "[[ 0  1  2  3]\n",
            " [ 4  5  6  7]\n",
            " [ 8  9 10 11]]\n",
            "[4 5 6 7]\n",
            "6\n",
            "6\n"
          ]
        }
      ]
    },
    {
      "cell_type": "code",
      "metadata": {
        "colab": {
          "base_uri": "https://localhost:8080/"
        },
        "id": "5Z6PN-aZarm7",
        "outputId": "1888d5e2-d713-405e-c825-aac565437d26"
      },
      "source": [
        "print(X[:])\n",
        "print(X[1:])\n",
        "print(X[:1])\n",
        "print(X[-2:-1])"
      ],
      "execution_count": null,
      "outputs": [
        {
          "output_type": "stream",
          "name": "stdout",
          "text": [
            "[[ 0  1  2  3]\n",
            " [ 4  5  6  7]\n",
            " [ 8  9 10 11]]\n",
            "[[ 4  5  6  7]\n",
            " [ 8  9 10 11]]\n",
            "[[0 1 2 3]]\n",
            "[[4 5 6 7]]\n"
          ]
        }
      ]
    },
    {
      "cell_type": "code",
      "metadata": {
        "id": "Y0rk37RMV0Ah",
        "colab": {
          "base_uri": "https://localhost:8080/"
        },
        "outputId": "f8088660-753f-4329-f91d-a11cef9fb451"
      },
      "source": [
        "X[2][2]=20\n",
        "print(X)\n",
        "X[1]=5\n",
        "print(X)"
      ],
      "execution_count": null,
      "outputs": [
        {
          "output_type": "stream",
          "name": "stdout",
          "text": [
            "[[ 0  1  2  3]\n",
            " [ 4  5  6  7]\n",
            " [ 8  9 20 11]]\n",
            "[[ 0  1  2  3]\n",
            " [ 5  5  5  5]\n",
            " [ 8  9 20 11]]\n"
          ]
        }
      ]
    },
    {
      "cell_type": "code",
      "metadata": {
        "id": "ECJ5ZRe7V5Vx",
        "colab": {
          "base_uri": "https://localhost:8080/"
        },
        "outputId": "13356401-56ba-4e51-c863-1d62e278e00e"
      },
      "source": [],
      "execution_count": null,
      "outputs": [
        {
          "output_type": "stream",
          "name": "stdout",
          "text": [
            "[[12 12 12 12]\n",
            " [12 12 12 12]\n",
            " [ 8  9 10 11]]\n"
          ]
        }
      ]
    },
    {
      "cell_type": "code",
      "metadata": {
        "colab": {
          "base_uri": "https://localhost:8080/"
        },
        "id": "689GV6MCbTEl",
        "outputId": "6bd0ee24-5344-4c2e-9c73-92e2ba6f2b5c"
      },
      "source": [],
      "execution_count": null,
      "outputs": [
        {
          "output_type": "stream",
          "name": "stdout",
          "text": [
            "[[-1  0]\n",
            " [ 8 -2]] int64\n",
            "[[12 -1  0 12]\n",
            " [12  8 -2 12]\n",
            " [ 8  9 10 11]] int64\n"
          ]
        }
      ]
    },
    {
      "cell_type": "code",
      "metadata": {
        "id": "Ux2R1JtgDInZ",
        "colab": {
          "base_uri": "https://localhost:8080/"
        },
        "outputId": "66dac8a7-65d8-4a02-d52a-025dba49a1ea"
      },
      "source": [
        "L = [[2, 1, 4, 3], [1, 2, 3, 4], [4, 3, 2, 1],[2, 1, 4, 3], [1, 2, 3, 4], [4, 3, 2, 1]]\n",
        "print(type(L))\n",
        "print(L[4][1])"
      ],
      "execution_count": null,
      "outputs": [
        {
          "output_type": "stream",
          "name": "stdout",
          "text": [
            "<class 'list'>\n",
            "2\n"
          ]
        }
      ]
    },
    {
      "cell_type": "markdown",
      "metadata": {
        "id": "oop0-fxuV9zw"
      },
      "source": [
        "##Pointers and memory\n",
        "\n",
        "```id()``` function gives the exact address of the  referenced object in memory"
      ]
    },
    {
      "cell_type": "code",
      "metadata": {
        "id": "evLP-9MDV9KR",
        "colab": {
          "base_uri": "https://localhost:8080/"
        },
        "outputId": "2820fa81-67ea-4ca6-d352-91837eb3d14e"
      },
      "source": [
        "before = id(Y)\n",
        "Y = Y + X\n",
        "id(Y) == before"
      ],
      "execution_count": null,
      "outputs": [
        {
          "output_type": "execute_result",
          "data": {
            "text/plain": [
              "False"
            ]
          },
          "metadata": {},
          "execution_count": 47
        }
      ]
    },
    {
      "cell_type": "code",
      "metadata": {
        "id": "7yWQ27fzWiLR",
        "colab": {
          "base_uri": "https://localhost:8080/"
        },
        "outputId": "211dda9f-eae2-449d-f798-a1429046d7c6"
      },
      "source": [
        "before = id(X)\n",
        "X += Y\n",
        "id(X) == before"
      ],
      "execution_count": null,
      "outputs": [
        {
          "output_type": "execute_result",
          "data": {
            "text/plain": [
              "True"
            ]
          },
          "metadata": {},
          "execution_count": 48
        }
      ]
    },
    {
      "cell_type": "code",
      "metadata": {
        "id": "c5jc9Qp1WXGQ",
        "colab": {
          "base_uri": "https://localhost:8080/"
        },
        "outputId": "3aa145e5-ce6a-4123-e41c-057eb85291bd"
      },
      "source": [
        "Z = np.zeros_like(Y)\n",
        "print('id(Z):', id(Z))\n",
        "Z[:] = X + Y\n",
        "print('id(Z):', id(Z))"
      ],
      "execution_count": null,
      "outputs": [
        {
          "output_type": "stream",
          "name": "stdout",
          "text": [
            "id(Z): 140445302817200\n",
            "id(Z): 140445302817200\n"
          ]
        }
      ]
    },
    {
      "cell_type": "markdown",
      "metadata": {
        "id": "HdbtzKOkZM-n"
      },
      "source": [
        "#Linear algebra"
      ]
    },
    {
      "cell_type": "markdown",
      "metadata": {
        "id": "IlFhl4T0ZbfQ"
      },
      "source": [
        "##Scalars\n",
        "\n",
        "$x\\in\\mathbb{R}$\n",
        "\n",
        "$y\\in\\mathbb{C}$\n",
        "\n",
        "$z\\in\\{0,1\\}$"
      ]
    },
    {
      "cell_type": "code",
      "source": [
        "import numpy as np"
      ],
      "metadata": {
        "id": "kK1V23HX6p5f"
      },
      "execution_count": null,
      "outputs": []
    },
    {
      "cell_type": "code",
      "metadata": {
        "id": "kT4c2WpTZdj2"
      },
      "source": [
        "x = np.array(3.0)\n",
        "y = np.array(2.0)\n"
      ],
      "execution_count": null,
      "outputs": []
    },
    {
      "cell_type": "markdown",
      "metadata": {
        "id": "GunuSC_KaMDf"
      },
      "source": [
        "##Vectors\n",
        "\n",
        "$\\bf{x}$ $\\in\\mathbb{R}^N$\n",
        "\n",
        "$\\bf{y}$ $\\in\\mathbb{C}^N$\n",
        "\n",
        "$\\bf{z}$ $\\in\\{0,1\\}^N$"
      ]
    },
    {
      "cell_type": "code",
      "metadata": {
        "id": "VQdhP83Va4nn",
        "colab": {
          "base_uri": "https://localhost:8080/"
        },
        "outputId": "a35638cf-f2e6-4c4a-b52b-1daadd4141da"
      },
      "source": [
        "x = np.arange(4)\n",
        "print(x)\n"
      ],
      "execution_count": null,
      "outputs": [
        {
          "output_type": "stream",
          "name": "stdout",
          "text": [
            "[0 1 2 3]\n"
          ]
        }
      ]
    },
    {
      "cell_type": "markdown",
      "metadata": {
        "id": "gF5aXyjNbQgR"
      },
      "source": [
        "##Matrices\n",
        "\n",
        "$\\bf{X}$ $\\in\\mathbb{R}^{N\\times M}$\n",
        "\n",
        "$\\bf{Y}$ $\\in\\mathbb{C}^{N\\times M}$\n",
        "\n",
        "$\\bf{Z}$ $\\in\\{0,1\\}^{N\\times M}$"
      ]
    },
    {
      "cell_type": "code",
      "metadata": {
        "id": "Zk0-Fssya89n",
        "colab": {
          "base_uri": "https://localhost:8080/"
        },
        "outputId": "76d3953c-2392-49c5-9f66-cb639b05a8b1"
      },
      "source": [
        "A = np.arange(20).reshape(5, 4)\n",
        "print('A:',A.shape)"
      ],
      "execution_count": null,
      "outputs": [
        {
          "output_type": "stream",
          "name": "stdout",
          "text": [
            "A: (5, 4)\n"
          ]
        }
      ]
    },
    {
      "cell_type": "code",
      "metadata": {
        "id": "s-QBKPKjbpXA",
        "colab": {
          "base_uri": "https://localhost:8080/"
        },
        "outputId": "34339e38-abec-4e79-ad12-037e16b26534"
      },
      "source": [
        "B = np.array([[1, 2, 3], [2, 0, 4], [3, 4, 5]])\n",
        "print(B)\n",
        "print(B==B.T)"
      ],
      "execution_count": null,
      "outputs": [
        {
          "output_type": "stream",
          "name": "stdout",
          "text": [
            "[[1 2 3]\n",
            " [2 0 4]\n",
            " [3 4 5]]\n",
            "[[ True  True  True]\n",
            " [ True  True  True]\n",
            " [ True  True  True]]\n"
          ]
        }
      ]
    },
    {
      "cell_type": "markdown",
      "metadata": {
        "id": "t0z9AZIYbvqn"
      },
      "source": [
        "##Tensors\n",
        "\n",
        "$\\bf{X}$ $\\in\\mathbb{R}^{N_1\\times N_2 \\times N_3}$\n",
        "\n",
        "$\\bf{Y}$ $\\in\\mathbb{C}^{N_1\\times N_2 \\times N_3 \\times N_4}$\n",
        "\n",
        "$\\bf{Z}$ $\\in\\{0,1\\}^{N_1\\times N_2 \\times N_3 \\times \\dots}$"
      ]
    },
    {
      "cell_type": "code",
      "metadata": {
        "id": "09apc7OLbuP5",
        "colab": {
          "base_uri": "https://localhost:8080/"
        },
        "outputId": "1457b4cb-df72-4f5f-e154-e6dece681eaa"
      },
      "source": [
        "X = np.arange(24).reshape(2, 3, 4)\n",
        "print('X:',X.shape)\n",
        "print(X)"
      ],
      "execution_count": null,
      "outputs": [
        {
          "output_type": "stream",
          "name": "stdout",
          "text": [
            "X: (2, 3, 4)\n",
            "[[[ 0  1  2  3]\n",
            "  [ 4  5  6  7]\n",
            "  [ 8  9 10 11]]\n",
            "\n",
            " [[12 13 14 15]\n",
            "  [16 17 18 19]\n",
            "  [20 21 22 23]]]\n"
          ]
        }
      ]
    },
    {
      "cell_type": "code",
      "metadata": {
        "colab": {
          "base_uri": "https://localhost:8080/"
        },
        "id": "5Q0m5yVrhST5",
        "outputId": "6d610f89-d9db-4cca-86e3-6bbc75ad8d47"
      },
      "source": [
        "A = np.arange(20).reshape(5, 4)\n",
        "print(A)\n",
        "B = A #shallow copy / copia superficial\n",
        "B[2][1]= 20\n",
        "print(B)\n",
        "print(A)"
      ],
      "execution_count": null,
      "outputs": [
        {
          "output_type": "stream",
          "name": "stdout",
          "text": [
            "[[ 0  1  2  3]\n",
            " [ 4  5  6  7]\n",
            " [ 8  9 10 11]\n",
            " [12 13 14 15]\n",
            " [16 17 18 19]]\n",
            "[[ 0  1  2  3]\n",
            " [ 4  5  6  7]\n",
            " [ 8 20 10 11]\n",
            " [12 13 14 15]\n",
            " [16 17 18 19]]\n",
            "[[ 0  1  2  3]\n",
            " [ 4  5  6  7]\n",
            " [ 8 20 10 11]\n",
            " [12 13 14 15]\n",
            " [16 17 18 19]]\n"
          ]
        }
      ]
    },
    {
      "cell_type": "code",
      "metadata": {
        "id": "sGdsWlCac2OC",
        "colab": {
          "base_uri": "https://localhost:8080/"
        },
        "outputId": "cc0ce4b1-3f6d-4273-d397-8dc69f0c1d3f"
      },
      "source": [
        "import copy\n",
        "A = np.arange(20).reshape(5, 4)\n",
        "# Assign a copy of `A` to `B` by allocating new memory, deep copy:\n",
        "B = copy.deepcopy(A)\n",
        "B[2][1]= 20\n",
        "print(B)\n",
        "print(A)"
      ],
      "execution_count": null,
      "outputs": [
        {
          "output_type": "stream",
          "name": "stdout",
          "text": [
            "[[ 0  1  2  3]\n",
            " [ 4  5  6  7]\n",
            " [ 8 20 10 11]\n",
            " [12 13 14 15]\n",
            " [16 17 18 19]]\n",
            "[[ 0  1  2  3]\n",
            " [ 4  5  6  7]\n",
            " [ 8  9 10 11]\n",
            " [12 13 14 15]\n",
            " [16 17 18 19]]\n"
          ]
        }
      ]
    },
    {
      "cell_type": "markdown",
      "source": [
        "Sum and product by scalar sums and multiplies each array element by the given scalar (like a broadcasting):"
      ],
      "metadata": {
        "id": "ftl2XCC64ZC7"
      }
    },
    {
      "cell_type": "code",
      "metadata": {
        "id": "WpbjBbamdEZW",
        "colab": {
          "base_uri": "https://localhost:8080/"
        },
        "outputId": "1fcaf37f-007c-4081-d0c9-b1c14b9300a7"
      },
      "source": [
        "A*5\n",
        "print(A*5)"
      ],
      "execution_count": null,
      "outputs": [
        {
          "output_type": "stream",
          "name": "stdout",
          "text": [
            "[[ 0  5 10 15]\n",
            " [20 25 30 35]\n",
            " [40 45 50 55]\n",
            " [60 65 70 75]\n",
            " [80 85 90 95]]\n"
          ]
        }
      ]
    },
    {
      "cell_type": "markdown",
      "source": [
        "Some operations can perform along a given axis:"
      ],
      "metadata": {
        "id": "MeiBcwRw40qM"
      }
    },
    {
      "cell_type": "code",
      "metadata": {
        "id": "QN0korBlde0u",
        "colab": {
          "base_uri": "https://localhost:8080/"
        },
        "outputId": "df310bdb-2ec0-4bdd-eba5-0cc6ff111234"
      },
      "source": [
        "A.shape, A.sum()"
      ],
      "execution_count": null,
      "outputs": [
        {
          "output_type": "execute_result",
          "data": {
            "text/plain": [
              "((5, 4), 190)"
            ]
          },
          "metadata": {},
          "execution_count": 61
        }
      ]
    },
    {
      "cell_type": "code",
      "metadata": {
        "id": "pZd5fG7ydj2G",
        "colab": {
          "base_uri": "https://localhost:8080/"
        },
        "outputId": "0cb2737d-c25f-4def-ee82-4b9138169213"
      },
      "source": [
        "A_sum_axis0 = A.sum(axis=0)\n",
        "print(A_sum_axis0)"
      ],
      "execution_count": null,
      "outputs": [
        {
          "output_type": "stream",
          "name": "stdout",
          "text": [
            "[40 45 50 55]\n"
          ]
        }
      ]
    },
    {
      "cell_type": "code",
      "metadata": {
        "id": "GjVqEMy9d9sn",
        "colab": {
          "base_uri": "https://localhost:8080/"
        },
        "outputId": "3aa503b8-09a9-45cd-bc41-0980ed1fdf50"
      },
      "source": [
        "A_sum_axis1 = A.sum(axis=1)\n",
        "print(A_sum_axis1)"
      ],
      "execution_count": null,
      "outputs": [
        {
          "output_type": "stream",
          "name": "stdout",
          "text": [
            "[ 6 22 38 54 70]\n"
          ]
        }
      ]
    },
    {
      "cell_type": "code",
      "metadata": {
        "id": "-9RiZXrfeFkv",
        "colab": {
          "base_uri": "https://localhost:8080/"
        },
        "outputId": "eb406d83-241a-462b-bc78-22aff276426d"
      },
      "source": [
        "A.sum(axis=None) # Same as `A.sum()`"
      ],
      "execution_count": null,
      "outputs": [
        {
          "output_type": "execute_result",
          "data": {
            "text/plain": [
              "190"
            ]
          },
          "metadata": {},
          "execution_count": 67
        }
      ]
    },
    {
      "cell_type": "code",
      "metadata": {
        "id": "JYlIB2DTeNwP",
        "colab": {
          "base_uri": "https://localhost:8080/"
        },
        "outputId": "d8acde8d-f7f2-437d-e9dc-a1d3453e5ea1"
      },
      "source": [
        "print(A.size)\n",
        "print(A.mean())\n",
        "print(A.sum())\n",
        "print(A.sum() / A.size)"
      ],
      "execution_count": null,
      "outputs": [
        {
          "output_type": "stream",
          "name": "stdout",
          "text": [
            "20\n",
            "9.5\n",
            "190\n",
            "9.5\n"
          ]
        }
      ]
    },
    {
      "cell_type": "code",
      "metadata": {
        "id": "NmlXMJWqed5o",
        "colab": {
          "base_uri": "https://localhost:8080/"
        },
        "outputId": "98af3fc5-18c3-4f78-9c67-43be3bb85c68"
      },
      "source": [
        "print(A)\n",
        "print(A.shape[1])\n",
        "A.mean(axis=0), A.sum(axis=0) / A.shape[0]"
      ],
      "execution_count": null,
      "outputs": [
        {
          "output_type": "stream",
          "name": "stdout",
          "text": [
            "[[ 0  1  2  3]\n",
            " [ 4  5  6  7]\n",
            " [ 8  9 10 11]\n",
            " [12 13 14 15]\n",
            " [16 17 18 19]]\n",
            "4\n"
          ]
        },
        {
          "output_type": "execute_result",
          "data": {
            "text/plain": [
              "(array([ 8.,  9., 10., 11.]), array([ 8.,  9., 10., 11.]))"
            ]
          },
          "metadata": {},
          "execution_count": 17
        }
      ]
    },
    {
      "cell_type": "markdown",
      "source": [
        "Try this:\n",
        "\n",
        "```\n",
        "A = np.arange(20).reshape(5, 4)\n",
        "A - A.mean(axis=1)\n",
        "```\n",
        "\n"
      ],
      "metadata": {
        "id": "CRjrCx3R5Nhn"
      }
    },
    {
      "cell_type": "code",
      "source": [
        "A=np.arange(9).reshape(3, 3)\n",
        "# np.linalg.inv(A)"
      ],
      "metadata": {
        "id": "rzxnZ9UKLVfG"
      },
      "execution_count": null,
      "outputs": []
    },
    {
      "cell_type": "code",
      "metadata": {
        "colab": {
          "base_uri": "https://localhost:8080/"
        },
        "id": "losb5J59jJf3",
        "outputId": "af997e5c-288f-49d6-890b-c6140061965c"
      },
      "source": [
        "A = np.arange(20).reshape(5, 4)\n",
        "A - A.mean(axis=0)"
      ],
      "execution_count": null,
      "outputs": [
        {
          "output_type": "execute_result",
          "data": {
            "text/plain": [
              "array([[-8., -8., -8., -8.],\n",
              "       [-4., -4., -4., -4.],\n",
              "       [ 0.,  0.,  0.,  0.],\n",
              "       [ 4.,  4.,  4.,  4.],\n",
              "       [ 8.,  8.,  8.,  8.]])"
            ]
          },
          "metadata": {},
          "execution_count": 21
        }
      ]
    },
    {
      "cell_type": "markdown",
      "metadata": {
        "id": "0yzagy0ceilA"
      },
      "source": [
        "```keepdims=True``` avoids axis reduction:\n",
        "\n"
      ]
    },
    {
      "cell_type": "code",
      "metadata": {
        "id": "KaYiQVDXeg22",
        "colab": {
          "base_uri": "https://localhost:8080/"
        },
        "outputId": "31ccef04-27f9-449c-9d87-2e6a80e5c4a4"
      },
      "source": [
        "sum_A = A.sum(axis=1)\n",
        "sum_A_nonred = A.sum(axis=1, keepdims=True)\n",
        "print(A.shape)\n",
        "print(sum_A.shape)\n",
        "print(sum_A_nonred.shape)\n",
        "print(A)\n",
        "print(sum_A)\n",
        "print(sum_A_nonred)"
      ],
      "execution_count": null,
      "outputs": [
        {
          "output_type": "stream",
          "name": "stdout",
          "text": [
            "(5, 4)\n",
            "(5,)\n",
            "(5, 1)\n",
            "[[ 0  1  2  3]\n",
            " [ 4  5  6  7]\n",
            " [ 8  9 10 11]\n",
            " [12 13 14 15]\n",
            " [16 17 18 19]]\n",
            "[ 6 22 38 54 70]\n",
            "[[ 6]\n",
            " [22]\n",
            " [38]\n",
            " [54]\n",
            " [70]]\n"
          ]
        }
      ]
    },
    {
      "cell_type": "code",
      "metadata": {
        "id": "w-jAF8BIfgdA",
        "colab": {
          "base_uri": "https://localhost:8080/",
          "height": 168
        },
        "outputId": "a6ede7d4-4de2-4256-8665-f232c0db4dcd"
      },
      "source": [
        "A / sum_A"
      ],
      "execution_count": null,
      "outputs": [
        {
          "output_type": "error",
          "ename": "ValueError",
          "evalue": "ignored",
          "traceback": [
            "\u001b[0;31m---------------------------------------------------------------------------\u001b[0m",
            "\u001b[0;31mValueError\u001b[0m                                Traceback (most recent call last)",
            "\u001b[0;32m<ipython-input-72-eb858b1cf923>\u001b[0m in \u001b[0;36m<module>\u001b[0;34m()\u001b[0m\n\u001b[0;32m----> 1\u001b[0;31m \u001b[0mA\u001b[0m \u001b[0;34m/\u001b[0m \u001b[0msum_A\u001b[0m\u001b[0;34m\u001b[0m\u001b[0;34m\u001b[0m\u001b[0m\n\u001b[0m",
            "\u001b[0;31mValueError\u001b[0m: operands could not be broadcast together with shapes (5,4) (5,) "
          ]
        }
      ]
    },
    {
      "cell_type": "code",
      "metadata": {
        "id": "w0Z0lrWYfj0e",
        "colab": {
          "base_uri": "https://localhost:8080/"
        },
        "outputId": "006982a8-5fa8-4376-f617-0fcbb2872f40"
      },
      "source": [
        "P = A / sum_A_nonred\n",
        "print(P)\n",
        "print(P.sum(axis=1))"
      ],
      "execution_count": null,
      "outputs": [
        {
          "output_type": "stream",
          "name": "stdout",
          "text": [
            "[[0.         0.16666667 0.33333333 0.5       ]\n",
            " [0.18181818 0.22727273 0.27272727 0.31818182]\n",
            " [0.21052632 0.23684211 0.26315789 0.28947368]\n",
            " [0.22222222 0.24074074 0.25925926 0.27777778]\n",
            " [0.22857143 0.24285714 0.25714286 0.27142857]]\n",
            "[1. 1. 1. 1. 1.]\n"
          ]
        }
      ]
    },
    {
      "cell_type": "code",
      "metadata": {
        "id": "Xds58rGFkEJg",
        "colab": {
          "base_uri": "https://localhost:8080/"
        },
        "outputId": "1a53f1eb-ec82-4762-c3c0-6b19366f385c"
      },
      "source": [
        "print(A)\n",
        "print(A.mean(axis=0,keepdims=True))\n",
        "A - A.mean(axis=0,keepdims=True)"
      ],
      "execution_count": null,
      "outputs": [
        {
          "output_type": "stream",
          "name": "stdout",
          "text": [
            "[[ 0  1  2  3]\n",
            " [ 4  5  6  7]\n",
            " [ 8  9 10 11]\n",
            " [12 13 14 15]\n",
            " [16 17 18 19]]\n",
            "[[ 8.  9. 10. 11.]]\n"
          ]
        },
        {
          "output_type": "execute_result",
          "data": {
            "text/plain": [
              "array([[-8., -8., -8., -8.],\n",
              "       [-4., -4., -4., -4.],\n",
              "       [ 0.,  0.,  0.,  0.],\n",
              "       [ 4.,  4.,  4.,  4.],\n",
              "       [ 8.,  8.,  8.,  8.]])"
            ]
          },
          "metadata": {},
          "execution_count": 74
        }
      ]
    },
    {
      "cell_type": "markdown",
      "metadata": {
        "id": "UeoG8z2Nft5v"
      },
      "source": [
        "## Dot product\n",
        "\n",
        "$\\bf{x}^\\top\\bf{y}=<\\bf{x},\\bf{y}>$$=\\sum_{i}{x_iy_i}$"
      ]
    },
    {
      "cell_type": "code",
      "metadata": {
        "id": "klRCu80EfwCe",
        "colab": {
          "base_uri": "https://localhost:8080/"
        },
        "outputId": "60ac0380-5145-4e57-b698-7695db01a8c5"
      },
      "source": [
        "x=np.array([1,2,3])\n",
        "y=np.array([4,5,6])\n",
        "(x*y).sum()\n",
        "np.dot(x,y)\n",
        "x.dot(y)"
      ],
      "execution_count": null,
      "outputs": [
        {
          "output_type": "execute_result",
          "data": {
            "text/plain": [
              "32"
            ]
          },
          "metadata": {},
          "execution_count": 3
        }
      ]
    },
    {
      "cell_type": "markdown",
      "metadata": {
        "id": "HV28hNzhglPI"
      },
      "source": [
        "```dot()``` also performs matrix-vector products:"
      ]
    },
    {
      "cell_type": "code",
      "metadata": {
        "id": "19nlTO-_ghVC",
        "colab": {
          "base_uri": "https://localhost:8080/"
        },
        "outputId": "bfddfa08-52bd-4343-ad44-03c755d89bd7"
      },
      "source": [
        "T=np.arange(15).reshape((5,3))\n",
        "T.dot(x)"
      ],
      "execution_count": null,
      "outputs": [
        {
          "output_type": "execute_result",
          "data": {
            "text/plain": [
              "array([ 8, 26, 44, 62, 80])"
            ]
          },
          "metadata": {},
          "execution_count": 4
        }
      ]
    },
    {
      "cell_type": "markdown",
      "metadata": {
        "id": "RrYocDsBg5Ce"
      },
      "source": [
        "```dot()``` also performs matrix-matrix products:"
      ]
    },
    {
      "cell_type": "code",
      "metadata": {
        "id": "ORY7KD3Jg-Q4",
        "colab": {
          "base_uri": "https://localhost:8080/"
        },
        "outputId": "b5e1cc9c-b4b8-4fb1-bea3-58a91233aba0"
      },
      "source": [
        "S=np.arange(15).reshape((3,5))\n",
        "S.dot(T)"
      ],
      "execution_count": null,
      "outputs": [
        {
          "output_type": "execute_result",
          "data": {
            "text/plain": [
              "array([[ 90, 100, 110],\n",
              "       [240, 275, 310],\n",
              "       [390, 450, 510]])"
            ]
          },
          "metadata": {},
          "execution_count": 5
        }
      ]
    },
    {
      "cell_type": "markdown",
      "metadata": {
        "id": "Y5pK4oIVhUfH"
      },
      "source": [
        "## Norms\n",
        "\n",
        "L2 norm:\n",
        "$||\\bf{x}$$||_2=(\\sum_{i}{x_i^2})^{1/2}$"
      ]
    },
    {
      "cell_type": "code",
      "metadata": {
        "id": "EClzO4vIhVme",
        "colab": {
          "base_uri": "https://localhost:8080/"
        },
        "outputId": "4edf0866-4c80-4d1e-acaa-f565a959888a"
      },
      "source": [
        "u = np.array([3, -4])\n",
        "N= np.sqrt(np.sum(u**2))\n",
        "print(N)\n",
        "np.linalg.norm(u)"
      ],
      "execution_count": null,
      "outputs": [
        {
          "output_type": "stream",
          "name": "stdout",
          "text": [
            "5.0\n"
          ]
        },
        {
          "output_type": "execute_result",
          "data": {
            "text/plain": [
              "5.0"
            ]
          },
          "metadata": {},
          "execution_count": 86
        }
      ]
    },
    {
      "cell_type": "markdown",
      "metadata": {
        "id": "YqB-Wp1EiJFO"
      },
      "source": [
        "L1 norm:\n",
        "$||\\bf{x}$$||_1=\\sum_{i}{|x_i|}$"
      ]
    },
    {
      "cell_type": "code",
      "metadata": {
        "id": "HgTfQCfTiQVl",
        "colab": {
          "base_uri": "https://localhost:8080/"
        },
        "outputId": "2e51634c-222f-443e-bdc1-ded03afefb78"
      },
      "source": [
        "r = np.linalg.norm(u,1)\n",
        "print(r)\n"
      ],
      "execution_count": null,
      "outputs": [
        {
          "output_type": "stream",
          "name": "stdout",
          "text": [
            "7.0\n"
          ]
        }
      ]
    },
    {
      "cell_type": "markdown",
      "metadata": {
        "id": "qa6dC0HkiUT9"
      },
      "source": [
        "Lp norm:\n",
        "$||\\bf{x}$$||_p=(\\sum_{i}{|x_i|^p})^{1/p}$"
      ]
    },
    {
      "cell_type": "code",
      "metadata": {
        "id": "j5CzDAo1igF2",
        "colab": {
          "base_uri": "https://localhost:8080/"
        },
        "outputId": "21024a1d-2f41-4c75-d55d-d618d5d61098"
      },
      "source": [
        "u = np.array([-0.1,5e-3,1/12])\n",
        "n = np.linalg.norm(u,np.infty)\n",
        "print(n)"
      ],
      "execution_count": null,
      "outputs": [
        {
          "output_type": "stream",
          "name": "stdout",
          "text": [
            "0.1\n"
          ]
        }
      ]
    },
    {
      "cell_type": "markdown",
      "metadata": {
        "id": "LoIQDbs6vTsZ"
      },
      "source": [
        "#Probabilities\n",
        "Tomemos como ejemplo un mazo de cartas, 4 colores y 13 valores"
      ]
    },
    {
      "cell_type": "code",
      "source": [
        "import numpy as np"
      ],
      "metadata": {
        "id": "Agan5nEbm4dg"
      },
      "execution_count": 1,
      "outputs": []
    },
    {
      "cell_type": "code",
      "source": [
        "colores=4\n",
        "cartas_por_color=13\n",
        "\n",
        "#total cartas\n",
        "# total_cartas = ?\n",
        "N = 52"
      ],
      "metadata": {
        "id": "_AV8zB-Rm50Q"
      },
      "execution_count": 22,
      "outputs": []
    },
    {
      "cell_type": "markdown",
      "source": [
        "Cual es nuestro espacio muestral ?\n",
        "\n",
        "S = {A:1 2 3 4 5 6 7 8 9 10 J:11 Q:12 K:13 -> trebol, corazon, pica, diamante}\n"
      ],
      "metadata": {
        "id": "5vcck4Onodm2"
      }
    },
    {
      "cell_type": "markdown",
      "source": [
        "##Probabilidad marginal\n",
        "$$\n",
        "p\\left(X=x_i\\right)=\\frac{c_i}{N}=\\frac{1}{N} \\sum_j n_{i j}=\\sum_{j=1}^L p\\left(X=x_i, Y=y_j\\right)\n",
        "$$\n",
        "\n",
        "Probabilidad de sacar un corazon?\n",
        "\n",
        "Probabilidad de sacar un As?"
      ],
      "metadata": {
        "id": "DvmPsZALq-xW"
      }
    },
    {
      "cell_type": "code",
      "source": [
        "P_corazon =\n",
        "\n",
        "P_As ="
      ],
      "metadata": {
        "id": "iJfE6sworFJH"
      },
      "execution_count": 27,
      "outputs": []
    },
    {
      "cell_type": "markdown",
      "source": [
        "## Probabilidad conjunta\n",
        "$$\n",
        "p\\left(X=x_i, Y=y_j\\right)=\\frac{n_{i j}}{N},\n",
        "$$\n",
        "\n",
        "Sacar un rojo y un 5"
      ],
      "metadata": {
        "id": "wcLmZMi3sJuL"
      }
    },
    {
      "cell_type": "code",
      "source": [
        "p_5rojo ="
      ],
      "metadata": {
        "colab": {
          "base_uri": "https://localhost:8080/"
        },
        "id": "gXHBTB-KryJX",
        "outputId": "f603bbd9-a0d8-469b-8480-1c28f6450c18"
      },
      "execution_count": 30,
      "outputs": [
        {
          "output_type": "execute_result",
          "data": {
            "text/plain": [
              "7.6923076923076925"
            ]
          },
          "metadata": {},
          "execution_count": 30
        }
      ]
    },
    {
      "cell_type": "markdown",
      "source": [
        "## Probabilidad condicional\n",
        "\n",
        "$$\n",
        "P\\left(Y=y_j \\mid X=x_i\\right)=\\frac{P\\left(X=x_i, Y=y_j\\right)}{P\\left(X=x_i\\right)}\n",
        "$$\n",
        "\n",
        "Queremos un 5, dado que sacamos una carta roja\n",
        "$$\n",
        "P(Y=5 \\mid X=\\text { rojo })=\\frac{P(X=\\text { rojo }, Y=5)}{P(X=\\text { rojo })}\n",
        "$$\n",
        "\n",
        "ojo, se redujo el campo muestral por la condicional"
      ],
      "metadata": {
        "id": "5vtKZC36s-vf"
      }
    },
    {
      "cell_type": "code",
      "source": [
        "P_5DadoRojo ="
      ],
      "metadata": {
        "id": "zYhSf2aTtVvo"
      },
      "execution_count": null,
      "outputs": []
    },
    {
      "cell_type": "markdown",
      "source": [
        "## Esperanza\n",
        "$$\n",
        "E(X)=\\sum_i x_i \\cdot P\\left(X=x_i\\right)\n",
        "$$"
      ],
      "metadata": {
        "id": "heubF5pxufDS"
      }
    },
    {
      "cell_type": "code",
      "source": [
        "S = np.linspace(1,13,13)\n",
        "print(S)\n",
        "p = 1/52\n",
        "\n",
        "# Esp ="
      ],
      "metadata": {
        "colab": {
          "base_uri": "https://localhost:8080/"
        },
        "id": "fdRhzM6Vukrc",
        "outputId": "97f49975-2744-4c76-ed49-94ff6f363b04"
      },
      "execution_count": 42,
      "outputs": [
        {
          "output_type": "stream",
          "name": "stdout",
          "text": [
            "[ 1.  2.  3.  4.  5.  6.  7.  8.  9. 10. 11. 12. 13.]\n"
          ]
        }
      ]
    },
    {
      "cell_type": "markdown",
      "source": [
        "## Varianza\n",
        "![image.png](data:image/png;base64,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)\n",
        "\n",
        "![image.png](data:image/png;base64,iVBORw0KGgoAAAANSUhEUgAAAcgAAABICAYAAAByZmWGAAAAAXNSR0IArs4c6QAAAARnQU1BAACxjwv8YQUAAAAJcEhZcwAAEnQAABJ0Ad5mH3gAABb+SURBVHhe7Z0NcFRVlsf/s2UVmVIIVU5N2HI1ljaQmsU040LiCiYFiaEck7AaPpxJKkoicdiAFhuYqQlQamJWDeBoEkYTZV0QB+ykpNKxZGkZSMcpZtNMYXfccRMs2W7QGmJJVWcLKrF06+69793u9Mfr7tef6Q7nV/WS1y8v3f3uPfeec+4999wfMA4IgiAIgvDjb+RvgiAIgiB8IAVJEARBEBqQgiQIgiAIDUhBEgRBEIQGpCAJgiAIQgNSkARBEAShASlIgiAIgtCAFCRBEARBaEAKkiAIgiA0IAVJEARBEBqQgiQIgiAIDUhBEgRBEIQGpCAJgiAIQgNSkARBEAShASlIgiAIgtCAFCRBEARBaEAKkiAIgiA0IAVJEARBEBqQgiQIgiAIDUhBEgRBEIQGpCAJgiAIQgNSkARBEAShASlIgiAIgtCAFCRBEARBaEAKkiAIgiA0IAVJEARBEBqQgiQIIo2ZwljfLtRvXIfSpQuxfOMO9PxpQv6NIJILKUiCINIWx4EnYb7tVzj4Xh9O2f+Mt4qc2LFmJVqHpuQdBJE8fsA48vyGZerCYbR+lIc9jQXIktcSypQNnb+yo+jFBhhvltfSlinY9q/nHZB8mSju3YYjz5YhW76MlaTX1SwnbWT9KzN2vZGFhtYy5MpLwTiwd2ENTla04d1XKpGjXLPxa6VozWnDx3/cBqNyLcO4PobDL1iQ9+w2FJAQ64T3Swd2wP7APjTkp7DQhIK8kZm0tbOS1e1s+Jq8kCRS9TmJ4Mr7dcwwdy6by4+SV4eZ2+3WdTgdg2zQOsj63+lgzVvK2TKD+h7q0cj6v5EfECOZVIbpSLrJurO3ji3ZbGJO+TqIyUHWImTI0M7s8hKXTmaqFfLE319eySiuDbP21SWs3TYpLxC6mYGyS5CC/B/W7u0IA49qZvpS3uaFP6jWvbUmLv4pxGVidYYqdugL+VrhCuvfrPHdlMPA2s/L23xwf9ik617n0WpmCNchpA2TbPiFlfI54hDI79zMbm5hVVJRVvfGUbuadTV7se8zyPKP7qh6J4R0paWsq3JW8tIwPwvBNW58+SlaO+tYwT9zRYeP0kwW4con4DAsY1Xbu9lgWBF3MtNmA6t6279UwtV13fsab+joYCv13jvb4HJcbahjJpd8nWQS60Feu8IGvR1rIzN94Q4t+JPc4/iwWanokuf62eiVVFtUQvgNbGWoxvndJBt9p9orfE1c+MJ9w8mz7WyZeJYt3ezkGL/3O/kHP3jjXs07sYAGkpYo1ppsfCta4vM63Py9HuadwKOHYjQOItTVbEQoBuGVH22UMljFuh3+HrvncDr6WfsGtZPV7iTTWNa/OcmaDAbWfFpfzQrvdCVXyKlWBqNvVqnls4J7rrzMvc/M+zG328mG32liJeLvhnLWcV77WZSRGfH/mn+eZO7TLV7FV9LF60qzXCVfmlgjv8+woYWZbE7m1ld8swJ7V0kcfUl0JH6I1ce6afrQLS+GQNxraGGDM1C5k9YWZtD0bn2YHGTN8lnm7h4M02kIy3AJK98XuQN3m3mHZ2hiJ+McbkwJvH6URs8Pw+Z+3s3GwTVelrzziMUD1FVXsxR7lzQ4KyN0CN/0Kx1mu02+9iHdZd3+Kn/G1Xo8QlXphvU4k8IkG9wt2wH/7FAozyHKT6vzlsPF4UdRnOxQpayDsPXNPe+XStiSLf3hZWK2osi6IbJ+SQBJmIP0qWRegeEeQQhUOIFLHvw7Phr5+ykN4znP8EdzCEWuCqvuRis7opBDYWmGmCdS5yO51d4b33cWHebKrmgHxvTW1Wxkui1FLjdxL1eCQUNPGSDrXxxi5Vy+Wqzh3tXNv185q+LloOuzE4qdtctpgnCdshhWVssv2BhxviM80Mjz8Op94j1CG5MR525nPdJgSYEXmZQgnelKDme1irmElazDIV+mEt4gqyIIuwfV+g7dOKIXVlm5KZlDSQTqvIlanzMwBxhFXc063CdZk5S94CFIN3OO+XojYl6fe2uBxZQRsi4Nge0nQyhxoZirWKOPgeYeG02dwaQocFEu4foz+azKfYEGhjRSQj6fD7K+xPtoGUUUqKYyebqZl1Hy9UdS1kHm3l+JMuXMjPfOuJSzIM5Z0IENKMqXr0MxNYGJCXEkbt3T+HkLLKhE4d9HXnSQVbQGDWp8OXoGrPBdojx1bi/qX8/Dwd+uDxOqHkgW8oyVwIgFjovyUlqTi/UvHpBlYMHWzXthu678ISVEU1ezjanzVvQoZw0ovjcgtP1iP7a+4fCTR+TkICegmDJD1nORdz//4LessGs0c1dfK/rz96NrneeTx2F91QynfJVsxh1WWMVJfiEW3aZc0mAEtmPqWU5TGQp9q+srGywfAZUFiyMvc7prDTY+op46jg7BoZ6qXOpF4+ZRPPX2ThSk/XKx5JK1aCmXagcs50PolwSRnEQBd61FbY16ajluRfAjTMH6YQ+Mv6wMuY5p6kIvdlWVonRjDWr4m9U8uhzzlq7Drr4x/06B4+iuQMXaCixfOA/z5tWg95IL5t/w10vv4f9Tg54R31Y3AcdZM/9tRO4d6pXwFKBsq/yWRyywXlVP4xHWnLuNyOFNzuoYl1fSnFvL8MLv9/CS4JxrRXOXjddgKtBXV4qslC/kdb8Qy+t64AhS4C5Y9tRgx0CGlLdk7DO5GLWiEIv9etYp2HrfRLZfh1uAnZ/vDGhPmSPruYuK+E8TbP+tvvYwcaYV9f8+gfkXzOh8rVM5Wv+lEbu+X4wF8p7kMoXR873KWQ6vh1D91cQJE3rEI+asx79uKvZbYzoxMsxdBV4Ld+sxLXJQtq5WPR0xYWhEPcV1G/Zu6kbemwewXlddpgNqFqQK0S8vXI76bkdwv3HJgl2P74D5K/laL7ctgpHbVNazDm4uJRHpSSYcZYJeGSrQcIOVuYlww3WeMX8Da7JMD0q4zU3KEFDgHIh7bJANmtvlcoJyVl1bxdrPuqeHeld3s1F5rzq0y69Fs6TEJ/Co0cy/T7zrcb40sWr+XoZ90Q2yTgZEL0Z7xDd3o84/qXWamglyXXX1ZT+re1hEFvJzW7vy/QIjHNXhmOjLe2aZnn+cu61bWV+qHBYT69hWztuBnuGlDJJ1rbrzGWIOOlIWuyDLkH9mKJl3/+UQqxN9j7GRHRoLLic10CpCkJQvMuBKfObKV0W5qYFR8cYAeFEib+M4dA7viqjdcl5PotSGXxLPU8f6/QTRMyytvaQoPHI9rN8a2cSTvEw6U1bs+nEFOvmpsfVjfPzMtO01MbAVt58ow+XfVYYYcpDZMrhpUPvuZXRVeO5y4fDae7D1TDG67AOovUteltja5qH0ZX7yVB++3lsGfNKJmk09wOYjONJolFadDa3zSrH3yT5cfkVvZhcHOlc+gF3CmnuwFrXfWjH5xAc46B3yiRb5HZ4ZwNet/tZmSLgVv3XbYQ1vXC/ZWP/iEdT+RL6MCRd6H78H9cf5KbeUD/7hYJKt2Uh1NQXr88sxtOoc9hRlwXWsBvc0mFHZ8ymOPDZdN479C/HA8+PY1v812lbpKu2ZZ8KCHbevU4ZYc5cX485b1Mv4vysYHRrjVvNOnPpf6dWHJINknct3zZJ6THR8ioEnYv2sJHDxMCqWbuU+8GJUPlOLwh/J6wpXMGY24/A5oHJXG/b8sjLA01dR+6UG9F3ehzJdlTAB8z/fjpoj/JS3s9oHbRjNPYgPfp2Y7Ee21yrQelq+iAU9WbF4/9963xCK/nMPirN4v1HN+42BShz8ryM+fYbIlPQA7+e3YeDrNn6fvKwTtVxj+1/dKGoyKXDrwBMV5zdJ72b9W6R1Gg6xtsgRbPeqloh2OLvnb2HXSEmLNloL1Btuz4/4w8xFQAV/r1QnRkgEyoJztRzE909qFFmkuhIjEV7ZkoEQQSMTHk9MI7Lw/SZWXnvIZ3QhffB4vXM1Am+UaEk9AR+ZJOsxfteIXBtlpt3VrPGlwZhkVXhBSlkYmtghjxfvezic4dcrejydKDP/+CZkyIzkIv4I+VW9X44n8Cgw6tQT/BQkG07Wv72cVb8dvmWq/X0UnnkMJDFZeRaKf9ag5k8c6YDZk1z4KwtMR7Zh/YMRTKnsXBTk8/++Po6xc9xKE/MPbTvQflT+PQx5fycjDRLInXcVqif5bdifIEsuI7ljPV7pkPV6vB713WPK5RkhqxhtnnycF60wf8R/P1iJYt+RBREgcYb/DgqwmMDY2X44b56P+fJKWD47jJq16lx3tEfNy/4BL3oIPf+oEhjw4XirBp1/SszM8GyS9XFLO+pf4/1HWwU6T0RbC9Pzj3isAhuKilEceOTnIusm9ZZEkn1brpzvrMX+F6MJjEoPsla1eUcNXWfNsPDfZY8U+z2HCCATwU/GgkVqf+JhYgxDA07Mv1VXy0wqyd3NY3kZnlaiVMdx+MywMkHrOvMehgOjvLS4akNn3XIs/NuVqHl9DD/8SSHKntyDBhnhlWrGzqvxhFiVj8Xq2Q1L9kMv4N1fc+HPWY+nHkqP0nAN9SqNsPLna/wa4dQFuxIgERxgkY2yvZ/j0995kmBHYNEGHDh8BEdiOA5sLdY5vOnBBYdFjV803r8ouHPMLsLmB3yuTnHjoGsx8n+aGFU2m2Q9+848OQxdgNzboqsFXhLeyNRKY15KDQXXZ8NqBOuqAhhvVS5lKC5Ye5WWiY2r/FomRh1Ky+TGnn/LRHYZ9n3+KboqEu/oREtyFSTvkop+rj78+P4BDE2IwnKg4WcR5t0u9aL+vlLs6stGw8k/49y/7eQeZwEW52RjfrxSeku2Gv32vfJKJw4Mn1DPGu5fmriGMmeOPNED93iGrLDGfDgwHtUzh+H6CKyn52DP7xMUUXedG0OPV6D1owALX3ddcbk6LmzRYpTd69+oRmwm5ffa/Di7+puykJ2dHdsRbUg+t6BHhNfLKbs3oPPg5D7UgGIfb9jV1wnLJu45BwpmBsp6zk3RtInIZP10J0799TIu//UUtkVaUhbIRQeGlBDJYLnSD5cbRcFF493ztm4TyoP3oGXGhHuPU5dsGv2D/sN2MQpP/KIVvUKWV5WhwG8Ex7MsZi2Mi5QLMTIHc5LgwXtIsoLkFfzQZrkmsgfml3rw5tWnUbZcuRAS29Fm9HLBNLbux85/DLD6fBv7RQs6T0QZtpI9X/UYLrj0hwdfuoBhJdw6QevxJtzqZ9+9QJ/3Irg6huFPRjAS8zEExyX5XnHhQu/2eoxuOYidyxPUfbrs6D8LzP9RQOeou67G4RKNMKcIRr/ALRdGz4r/5PWWP11vrhOtqN9YitKnzfyO9MN3/WNhpKCqq7wNPA9srghWpBkl61evKHVRmJuExRs3x2CkcDxDgEKu8gICAvXDjXrlwcfg0r2Ugbf1t9QzLQMpXlx/GdboH/Qfw2eDl9qFZJwbr/xXTlGAor84qhofjxTC6BUzFyxt9VhXUoqtxyO1zAm4FcHKwwLdnWgMyLnIJOIJnlCPyCmzpjPoB+ct9ARcyCAdERruM6kfLoBnGicz/YLfF0UmG++EeaKy34iM9OL5jmbc1Dsv4yhSjcWNzrq60s/qRP0ETvZ7Aj98/9/RwZpEucs0aOFlZWbw7u7wiwjBGddG2SGR5ShkGrkMkvWzLcrntpyVr2ccn8w4YXPTRkZNQRdF1hfvUhuNzEgZhifIKbAvv9KrpuXz1Qf2riYlVaIaoBYpqEnKdqQ2EidJ9yBFloy1T8iFr9yX3PxQJIsoB4VllcqZeWDIz8J3HWtBp0u1QxyucUxcccF4C/c6rotMOy6vhTZ+hf9NZN/RzPiSi1wR/DPCreqwZtCUzOAzhv5jck4mfwHmJyCrz9QXYl4sR+fC4fTB1deI+i+ewsGUBW7orKscI4of5L+P2zHqqRpeb4efbw6af7SdcKPin3IxZRuCiXto8Q3vJBBPxqhxK8zHVX9vcf6Ppbz5H+MXbDB378C6Fcux9Riw87FQIfeZI+uuMRv/WYm8mV4E76mHSxYMyPnHstz5+DaOsshVkiU4eP8U3u+aUj5jHNYBkzr/uCgHc7inJL5PfLUwc+QYi5URRLNj1PsME58dRvNvAuYfv7fB4q5AxR1TGB4yAU8aw89/TzlhH+DvkM9lXF5KClJRJhfPwlfdyWXdzP5GnbLhrqGwijW90MwaHy5ndW/Y2aRYuCy2TuLvZxALxK9Ne45BR4iQcdVCMYT1Hrzh3VpHnItT1TD6UAmh05PE5ICcZG7ffXmu2Vn39mpWvrqKdYRYiK6nrhRcXMaMQl7qWPNuLjuF1axajlxo5TE9uZ3f+1x8nkEiiXX/x0i7YGSGrKv1EXHHkqQzyU7uCHh+3yPWHW3kaEXYjRnOt3vz4AYfgQvsMwvn+41sCZfBZZuaWfOmZWxZbbXMN6shF0pyiEiJ6znSy9a7TVqspEZBcsGz93YwkyPKh/lOdKhq9gb/tUYBHW20SIGNfmeJRKAOE6dT5xwRsfbx4RY2GOcWXSK7Url3f0DeKe5WFa7z7fLQ6+SiqisfeeHdupoBRWMHBbldTsRGOBvIBFmX3zFTdriJHr1J22cx3uw9XBI8Q8gaUwPqFmmRt0BU+owUbJWYIgWZboi5NG7ZzoTAKotjZ2gXk1hwcYvu4QTs4M09/5YVPlv4cKXbrHSI6hx16A48Ql0JL3RLOSvf7m/dqxvranfOyvyHfD+3hRtuKdqdfGZIf1lXvdzIW0FlMqo8ZlC7TwCTjm7WWFnOmsx+LVOVR00DVU2qoCYY4AZ0V6j5RdXw8iYiSCI3qILkKAEc+ncyTwxqdqG4Nx9OFfHm4fTglsPiWkNoijUZYRutMHXl3YPP4DOpr3xvcU1rs141CMyT4/LQjpke1ksBaS3rqoFUsm8m9nlMJWrnb4gz4CdzkEE0wkj1GVpWpmrENa1MUEqwnTQiuHHVpBjQwSjbshnqWH8SM+h4uHEVJEfZDFjXTuYJQqRc4hWbGR4LF/B4EyR/52aj3EOrNqoNZXp4dRplF3Ydc9Oh6krxBv+hmnWfl83NLSM7jdwjCVHO9q4StnJ3B+ve3hzyntlGusq68B4NN8r+hmKqwlByg3iRqkGwrLab2T1NUyZ1X7KlP0R7t7OO1StZc1c3a9od6h5hUMW/ebtekpesPCNwobehFN3GPpxqTPx6I39Eou9S/EfFqTgSP6eKKdheLkfp+TXoayyAujrxh1iweDEWBIavTjhhd7rlC8EEXJ+4MDZmgeUjK8a8C/CMaPvjxwGLtdWk9K5XREJ6J3q6v0XtU6EiZEPVlQvmp9dhl20B7syZhNM1H2u2bMPO+mLkhFlALCIGxfq4ZKQJS0/SUNav29C6phlZv/0gcWtq0xxXXz1KX1+Kvj/IFImzmUtmbN2wC8M/uhMLJp1wzl+Dbc/sRENRuIWLIqIayM4O0Qscq0Hp6bU41ZOi9HuKmryhcbL+LVWs5XQyFxyJcfcq1vh+aqyeeBFRjaEj6mI8tIZXlcg9de5p8nSLjqCZMHUlArpuBC8kLtJJ1p3MxL9L3MP3GYiI6qx6bjB4iHG2ci0wyDI2xPBsVUjvMznc4B6kh/BWS/wk+/0Ti/CuvpXnCeMmjWwmVy3Ycd9h5DxrxPjVYrzwjJ71lZlVlulHmsj69/y+b7NiynAzG1BGMLKzU7SeeHYwE2VGCpKYWURHeZ0UHkEQ6QcpSIIgCILQIAWp5giCIAgi8yAFSRAEQRAakIIkCIIgCA1IQRIEQRCEBqQgCYIgCEIDUpAEQRAEoQEpSIIgCILQgBQkQRAEQWhACpIgCIIgNCAFSRAEQRAakIIkCIIgCA1IQRIEQRCEBqQgCYIgCEIDUpAEQRAEoQEpSIIgCIIIAvh//WnP+ufhVvsAAAAASUVORK5CYII=)"
      ],
      "metadata": {
        "id": "3IV1TLSawPlT"
      }
    },
    {
      "cell_type": "code",
      "source": [
        "EspY = 7\n",
        "# np.sum((S-EspY)**2)*(1/13)"
      ],
      "metadata": {
        "colab": {
          "base_uri": "https://localhost:8080/"
        },
        "id": "JTcMSIeLwTED",
        "outputId": "8f631beb-9b7f-48bd-d8cd-42148a666edc"
      },
      "execution_count": 57,
      "outputs": [
        {
          "output_type": "execute_result",
          "data": {
            "text/plain": [
              "14.0"
            ]
          },
          "metadata": {},
          "execution_count": 57
        }
      ]
    }
  ]
}