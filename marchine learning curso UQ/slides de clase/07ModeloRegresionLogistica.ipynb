{
  "nbformat": 4,
  "nbformat_minor": 0,
  "metadata": {
    "colab": {
      "provenance": []
    },
    "kernelspec": {
      "name": "python3",
      "display_name": "Python 3"
    },
    "language_info": {
      "name": "python"
    },
    "widgets": {
      "application/vnd.jupyter.widget-state+json": {
        "8ef3e67dc6c94f6f9d642c9d465a9007": {
          "model_module": "@jupyter-widgets/controls",
          "model_name": "VBoxModel",
          "model_module_version": "1.5.0",
          "state": {
            "_dom_classes": [
              "widget-interact"
            ],
            "_model_module": "@jupyter-widgets/controls",
            "_model_module_version": "1.5.0",
            "_model_name": "VBoxModel",
            "_view_count": null,
            "_view_module": "@jupyter-widgets/controls",
            "_view_module_version": "1.5.0",
            "_view_name": "VBoxView",
            "box_style": "",
            "children": [
              "IPY_MODEL_6afab3d33f974af38c67a40fc0bf477c",
              "IPY_MODEL_2176292436294e02a8823048fdc42a00",
              "IPY_MODEL_2c131176b2e2437f8f8ef107bbd53e0f"
            ],
            "layout": "IPY_MODEL_90c5ae6d6c554b7da9c8968d8192525f"
          }
        },
        "6afab3d33f974af38c67a40fc0bf477c": {
          "model_module": "@jupyter-widgets/controls",
          "model_name": "DropdownModel",
          "model_module_version": "1.5.0",
          "state": {
            "_dom_classes": [],
            "_model_module": "@jupyter-widgets/controls",
            "_model_module_version": "1.5.0",
            "_model_name": "DropdownModel",
            "_options_labels": [
              "0.1",
              "0.2",
              "0.3",
              "0.4",
              "0.5"
            ],
            "_view_count": null,
            "_view_module": "@jupyter-widgets/controls",
            "_view_module_version": "1.5.0",
            "_view_name": "DropdownView",
            "description": "tamTest",
            "description_tooltip": null,
            "disabled": false,
            "index": 1,
            "layout": "IPY_MODEL_889e6e3b67f9400b98fe294f62449c46",
            "style": "IPY_MODEL_77cc56d19cf84bac9dcbf201322db9ac"
          }
        },
        "2176292436294e02a8823048fdc42a00": {
          "model_module": "@jupyter-widgets/controls",
          "model_name": "DropdownModel",
          "model_module_version": "1.5.0",
          "state": {
            "_dom_classes": [],
            "_model_module": "@jupyter-widgets/controls",
            "_model_module_version": "1.5.0",
            "_model_name": "DropdownModel",
            "_options_labels": [
              "0.1",
              "1.0",
              "10",
              "100.0"
            ],
            "_view_count": null,
            "_view_module": "@jupyter-widgets/controls",
            "_view_module_version": "1.5.0",
            "_view_name": "DropdownView",
            "description": "C",
            "description_tooltip": null,
            "disabled": false,
            "index": 2,
            "layout": "IPY_MODEL_84c6b346003543d9a563e08465ecc951",
            "style": "IPY_MODEL_a9202538f5e34ca6841d1d4e90973e9e"
          }
        },
        "2c131176b2e2437f8f8ef107bbd53e0f": {
          "model_module": "@jupyter-widgets/output",
          "model_name": "OutputModel",
          "model_module_version": "1.0.0",
          "state": {
            "_dom_classes": [],
            "_model_module": "@jupyter-widgets/output",
            "_model_module_version": "1.0.0",
            "_model_name": "OutputModel",
            "_view_count": null,
            "_view_module": "@jupyter-widgets/output",
            "_view_module_version": "1.0.0",
            "_view_name": "OutputView",
            "layout": "IPY_MODEL_6cc04f524f5b4c7587a47d7742723ed3",
            "msg_id": "",
            "outputs": [
              {
                "output_type": "display_data",
                "data": {
                  "text/plain": "<Figure size 432x288 with 2 Axes>",
                  "image/png": "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\n"
                },
                "metadata": {
                  "needs_background": "light"
                }
              },
              {
                "output_type": "stream",
                "name": "stdout",
                "text": [
                  "Acc:  0.9666666666666667\n"
                ]
              }
            ]
          }
        },
        "90c5ae6d6c554b7da9c8968d8192525f": {
          "model_module": "@jupyter-widgets/base",
          "model_name": "LayoutModel",
          "model_module_version": "1.2.0",
          "state": {
            "_model_module": "@jupyter-widgets/base",
            "_model_module_version": "1.2.0",
            "_model_name": "LayoutModel",
            "_view_count": null,
            "_view_module": "@jupyter-widgets/base",
            "_view_module_version": "1.2.0",
            "_view_name": "LayoutView",
            "align_content": null,
            "align_items": null,
            "align_self": null,
            "border": null,
            "bottom": null,
            "display": null,
            "flex": null,
            "flex_flow": null,
            "grid_area": null,
            "grid_auto_columns": null,
            "grid_auto_flow": null,
            "grid_auto_rows": null,
            "grid_column": null,
            "grid_gap": null,
            "grid_row": null,
            "grid_template_areas": null,
            "grid_template_columns": null,
            "grid_template_rows": null,
            "height": null,
            "justify_content": null,
            "justify_items": null,
            "left": null,
            "margin": null,
            "max_height": null,
            "max_width": null,
            "min_height": null,
            "min_width": null,
            "object_fit": null,
            "object_position": null,
            "order": null,
            "overflow": null,
            "overflow_x": null,
            "overflow_y": null,
            "padding": null,
            "right": null,
            "top": null,
            "visibility": null,
            "width": null
          }
        },
        "889e6e3b67f9400b98fe294f62449c46": {
          "model_module": "@jupyter-widgets/base",
          "model_name": "LayoutModel",
          "model_module_version": "1.2.0",
          "state": {
            "_model_module": "@jupyter-widgets/base",
            "_model_module_version": "1.2.0",
            "_model_name": "LayoutModel",
            "_view_count": null,
            "_view_module": "@jupyter-widgets/base",
            "_view_module_version": "1.2.0",
            "_view_name": "LayoutView",
            "align_content": null,
            "align_items": null,
            "align_self": null,
            "border": null,
            "bottom": null,
            "display": null,
            "flex": null,
            "flex_flow": null,
            "grid_area": null,
            "grid_auto_columns": null,
            "grid_auto_flow": null,
            "grid_auto_rows": null,
            "grid_column": null,
            "grid_gap": null,
            "grid_row": null,
            "grid_template_areas": null,
            "grid_template_columns": null,
            "grid_template_rows": null,
            "height": null,
            "justify_content": null,
            "justify_items": null,
            "left": null,
            "margin": null,
            "max_height": null,
            "max_width": null,
            "min_height": null,
            "min_width": null,
            "object_fit": null,
            "object_position": null,
            "order": null,
            "overflow": null,
            "overflow_x": null,
            "overflow_y": null,
            "padding": null,
            "right": null,
            "top": null,
            "visibility": null,
            "width": null
          }
        },
        "77cc56d19cf84bac9dcbf201322db9ac": {
          "model_module": "@jupyter-widgets/controls",
          "model_name": "DescriptionStyleModel",
          "model_module_version": "1.5.0",
          "state": {
            "_model_module": "@jupyter-widgets/controls",
            "_model_module_version": "1.5.0",
            "_model_name": "DescriptionStyleModel",
            "_view_count": null,
            "_view_module": "@jupyter-widgets/base",
            "_view_module_version": "1.2.0",
            "_view_name": "StyleView",
            "description_width": ""
          }
        },
        "84c6b346003543d9a563e08465ecc951": {
          "model_module": "@jupyter-widgets/base",
          "model_name": "LayoutModel",
          "model_module_version": "1.2.0",
          "state": {
            "_model_module": "@jupyter-widgets/base",
            "_model_module_version": "1.2.0",
            "_model_name": "LayoutModel",
            "_view_count": null,
            "_view_module": "@jupyter-widgets/base",
            "_view_module_version": "1.2.0",
            "_view_name": "LayoutView",
            "align_content": null,
            "align_items": null,
            "align_self": null,
            "border": null,
            "bottom": null,
            "display": null,
            "flex": null,
            "flex_flow": null,
            "grid_area": null,
            "grid_auto_columns": null,
            "grid_auto_flow": null,
            "grid_auto_rows": null,
            "grid_column": null,
            "grid_gap": null,
            "grid_row": null,
            "grid_template_areas": null,
            "grid_template_columns": null,
            "grid_template_rows": null,
            "height": null,
            "justify_content": null,
            "justify_items": null,
            "left": null,
            "margin": null,
            "max_height": null,
            "max_width": null,
            "min_height": null,
            "min_width": null,
            "object_fit": null,
            "object_position": null,
            "order": null,
            "overflow": null,
            "overflow_x": null,
            "overflow_y": null,
            "padding": null,
            "right": null,
            "top": null,
            "visibility": null,
            "width": null
          }
        },
        "a9202538f5e34ca6841d1d4e90973e9e": {
          "model_module": "@jupyter-widgets/controls",
          "model_name": "DescriptionStyleModel",
          "model_module_version": "1.5.0",
          "state": {
            "_model_module": "@jupyter-widgets/controls",
            "_model_module_version": "1.5.0",
            "_model_name": "DescriptionStyleModel",
            "_view_count": null,
            "_view_module": "@jupyter-widgets/base",
            "_view_module_version": "1.2.0",
            "_view_name": "StyleView",
            "description_width": ""
          }
        },
        "6cc04f524f5b4c7587a47d7742723ed3": {
          "model_module": "@jupyter-widgets/base",
          "model_name": "LayoutModel",
          "model_module_version": "1.2.0",
          "state": {
            "_model_module": "@jupyter-widgets/base",
            "_model_module_version": "1.2.0",
            "_model_name": "LayoutModel",
            "_view_count": null,
            "_view_module": "@jupyter-widgets/base",
            "_view_module_version": "1.2.0",
            "_view_name": "LayoutView",
            "align_content": null,
            "align_items": null,
            "align_self": null,
            "border": null,
            "bottom": null,
            "display": null,
            "flex": null,
            "flex_flow": null,
            "grid_area": null,
            "grid_auto_columns": null,
            "grid_auto_flow": null,
            "grid_auto_rows": null,
            "grid_column": null,
            "grid_gap": null,
            "grid_row": null,
            "grid_template_areas": null,
            "grid_template_columns": null,
            "grid_template_rows": null,
            "height": null,
            "justify_content": null,
            "justify_items": null,
            "left": null,
            "margin": null,
            "max_height": null,
            "max_width": null,
            "min_height": null,
            "min_width": null,
            "object_fit": null,
            "object_position": null,
            "order": null,
            "overflow": null,
            "overflow_x": null,
            "overflow_y": null,
            "padding": null,
            "right": null,
            "top": null,
            "visibility": null,
            "width": null
          }
        }
      }
    }
  },
  "cells": [
    {
      "cell_type": "markdown",
      "source": [
        "# Modelo Discriminativo: Regresión Logística\n",
        "\n",
        "- Vamos a modelar el posterior\n",
        "- $p(C_1|\\phi(x_n)) = \\sigma(w^\\top x_n)$"
      ],
      "metadata": {
        "id": "D8sw_pN3rz5_"
      }
    },
    {
      "cell_type": "code",
      "source": [
        "import numpy as np\n",
        "import matplotlib.pyplot as plt\n",
        "from sklearn.datasets import load_iris\n",
        "from sklearn.linear_model import LogisticRegression"
      ],
      "metadata": {
        "id": "tvzGyIdisI9j"
      },
      "execution_count": null,
      "outputs": []
    },
    {
      "cell_type": "code",
      "execution_count": null,
      "metadata": {
        "colab": {
          "base_uri": "https://localhost:8080/",
          "height": 372
        },
        "id": "a58xk8UCrwth",
        "outputId": "5b60ae5a-e656-4761-ef2f-a3cb95851ebe"
      },
      "outputs": [
        {
          "output_type": "stream",
          "name": "stdout",
          "text": [
            "['setosa' 'versicolor' 'virginica']\n",
            "[0 0 0 0 0 0 0 0 0 0 0 0 0 0 0 0 0 0 0 0 0 0 0 0 0 0 0 0 0 0 0 0 0 0 0 0 0\n",
            " 0 0 0 0 0 0 0 0 0 0 0 0 0 1 1 1 1 1 1 1 1 1 1 1 1 1 1 1 1 1 1 1 1 1 1 1 1\n",
            " 1 1 1 1 1 1 1 1 1 1 1 1 1 1 1 1 1 1 1 1 1 1 1 1 1 1 2 2 2 2 2 2 2 2 2 2 2\n",
            " 2 2 2 2 2 2 2 2 2 2 2 2 2 2 2 2 2 2 2 2 2 2 2 2 2 2 2 2 2 2 2 2 2 2 2 2 2\n",
            " 2 2]\n"
          ]
        },
        {
          "output_type": "display_data",
          "data": {
            "text/plain": [
              "<Figure size 432x288 with 1 Axes>"
            ],
            "image/png": "[encoded data removed]"
          },
          "metadata": {
            "needs_background": "light"
          }
        }
      ],
      "source": [
        "dataset = load_iris()\n",
        "\n",
        "#Utilicemos el ejemplo biclase\n",
        "X = dataset.data\n",
        "X = X[:,:]\n",
        "N, D = X.shape\n",
        "t = dataset.target\n",
        "names = dataset.target_names\n",
        "\n",
        "print(names)\n",
        "print(t)\n",
        "\n",
        "plt.plot(X[:50,0],X[:50,1],'ob')\n",
        "plt.plot(X[50:100,0],X[50:100,1],'sg')\n",
        "plt.plot(X[100:,0],X[100:,1],'dr')\n",
        "plt.legend(('C1','C2','C3'))\n",
        "plt.show()"
      ]
    },
    {
      "cell_type": "code",
      "source": [
        "modelRL = LogisticRegression(penalty='l2', C = 10.)\n",
        "modelRL.fit(X,t)\n",
        "print('w:', modelRL.coef_)\n",
        "\n",
        "yEst = modelRL.predict(X)\n",
        "\n",
        "print('t_est: ',yEst)"
      ],
      "metadata": {
        "colab": {
          "base_uri": "https://localhost:8080/"
        },
        "id": "U4ejauYvslo0",
        "outputId": "9fc5733f-09bf-48a9-c275-1624c10a973c"
      },
      "execution_count": null,
      "outputs": [
        {
          "output_type": "stream",
          "name": "stdout",
          "text": [
            "w: [[-0.4121457   2.13700681 -4.29342614 -1.96156454]\n",
            " [ 1.03717874 -0.07282152 -0.46183264 -2.32998147]\n",
            " [-0.62503304 -2.06418529  4.75525878  4.29154601]]\n",
            "t_est:  [0 0 0 0 0 0 0 0 0 0 0 0 0 0 0 0 0 0 0 0 0 0 0 0 0 0 0 0 0 0 0 0 0 0 0 0 0\n",
            " 0 0 0 0 0 0 0 0 0 0 0 0 0 1 1 1 1 1 1 1 1 1 1 1 1 1 1 1 1 1 1 1 1 2 1 1 1\n",
            " 1 1 1 1 1 1 1 1 1 2 1 1 1 1 1 1 1 1 1 1 1 1 1 1 1 1 2 2 2 2 2 2 2 2 2 2 2\n",
            " 2 2 2 2 2 2 2 2 2 2 2 2 2 2 2 2 2 2 2 2 2 2 1 2 2 2 2 2 2 2 2 2 2 2 2 2 2\n",
            " 2 2]\n"
          ]
        },
        {
          "output_type": "stream",
          "name": "stderr",
          "text": [
            "/usr/local/lib/python3.7/dist-packages/sklearn/linear_model/_logistic.py:818: ConvergenceWarning: lbfgs failed to converge (status=1):\n",
            "STOP: TOTAL NO. of ITERATIONS REACHED LIMIT.\n",
            "\n",
            "Increase the number of iterations (max_iter) or scale the data as shown in:\n",
            "    https://scikit-learn.org/stable/modules/preprocessing.html\n",
            "Please also refer to the documentation for alternative solver options:\n",
            "    https://scikit-learn.org/stable/modules/linear_model.html#logistic-regression\n",
            "  extra_warning_msg=_LOGISTIC_SOLVER_CONVERGENCE_MSG,\n"
          ]
        }
      ]
    },
    {
      "cell_type": "code",
      "source": [
        "from sklearn.metrics import confusion_matrix, ConfusionMatrixDisplay, accuracy_score\n",
        "cMat = confusion_matrix(t, yEst)\n",
        "\n",
        "ax = ConfusionMatrixDisplay(cMat,display_labels=['setosa','versicolor','virginica'])\n",
        "ax.plot()\n",
        "plt.show()\n",
        "\n",
        "print('Acc: ',accuracy_score(t, yEst))"
      ],
      "metadata": {
        "colab": {
          "base_uri": "https://localhost:8080/",
          "height": 300
        },
        "id": "5J5lp1mXsvrn",
        "outputId": "6127dde5-d349-4105-fdb4-204b3bb76023"
      },
      "execution_count": null,
      "outputs": [
        {
          "output_type": "display_data",
          "data": {
            "text/plain": [
              "<Figure size 432x288 with 2 Axes>"
            ],
            "image/png": "[encoded data removed]"
          },
          "metadata": {
            "needs_background": "light"
          }
        },
        {
          "output_type": "stream",
          "name": "stdout",
          "text": [
            "Acc:  0.98\n"
          ]
        }
      ]
    },
    {
      "cell_type": "markdown",
      "source": [
        "Siempre es recomendable partir el conjunto de datos en Entrenamiento y Test (hold-out-validation)"
      ],
      "metadata": {
        "id": "ksszmAkZtgqA"
      }
    },
    {
      "cell_type": "code",
      "source": [
        "from sklearn.model_selection import train_test_split"
      ],
      "metadata": {
        "id": "aI2DsI18tWje"
      },
      "execution_count": null,
      "outputs": []
    },
    {
      "cell_type": "code",
      "source": [
        "from ipywidgets import interact"
      ],
      "metadata": {
        "id": "0yjgnKr3vHvV"
      },
      "execution_count": null,
      "outputs": []
    },
    {
      "cell_type": "code",
      "source": [
        "@interact(tamTest = [0.1,0.2,0.3,0.4,0.5], C = [0.1,1.,10,100.])\n",
        "\n",
        "def experimentoRL(tamTest, C):\n",
        "  Xtrain, Xtest, ytrain, ytest = train_test_split(X,t,test_size=tamTest, random_state=123)\n",
        "\n",
        "\n",
        "  modelRL = LogisticRegression(penalty='l2', C = C,max_iter= 1000)\n",
        "  modelRL.fit(Xtrain,ytrain)\n",
        "  #print('w:', modelRL.coef_)\n",
        "\n",
        "  yEst = modelRL.predict(Xtest)\n",
        "\n",
        "  #print('t_est: ',yEst)\n",
        "\n",
        "  cMat = confusion_matrix(ytest, yEst)\n",
        "\n",
        "  ax = ConfusionMatrixDisplay(cMat,display_labels=['setosa','versicolor','virginica'])\n",
        "  ax.plot()\n",
        "  plt.show()\n",
        "\n",
        "  print('Acc: ',accuracy_score(ytest, yEst))"
      ],
      "metadata": {
        "colab": {
          "base_uri": "https://localhost:8080/",
          "height": 360,
          "referenced_widgets": [
            "8ef3e67dc6c94f6f9d642c9d465a9007",
            "6afab3d33f974af38c67a40fc0bf477c",
            "2176292436294e02a8823048fdc42a00",
            "2c131176b2e2437f8f8ef107bbd53e0f",
            "90c5ae6d6c554b7da9c8968d8192525f",
            "889e6e3b67f9400b98fe294f62449c46",
            "77cc56d19cf84bac9dcbf201322db9ac",
            "84c6b346003543d9a563e08465ecc951",
            "a9202538f5e34ca6841d1d4e90973e9e",
            "6cc04f524f5b4c7587a47d7742723ed3"
          ]
        },
        "id": "2lZFVT-GuBy9",
        "outputId": "3ccf67c6-3a95-45a1-d6e5-4b5afc081c99"
      },
      "execution_count": null,
      "outputs": [
        {
          "output_type": "display_data",
          "data": {
            "text/plain": [
              "interactive(children=(Dropdown(description='tamTest', options=(0.1, 0.2, 0.3, 0.4, 0.5), value=0.1), Dropdown(…"
            ],
            "application/vnd.jupyter.widget-view+json": {
              "version_major": 2,
              "version_minor": 0,
              "model_id": "8ef3e67dc6c94f6f9d642c9d465a9007"
            }
          },
          "metadata": {}
        }
      ]
    },
    {
      "cell_type": "code",
      "source": [],
      "metadata": {
        "id": "zpswC8CxuctN"
      },
      "execution_count": null,
      "outputs": []
    }
  ]
}