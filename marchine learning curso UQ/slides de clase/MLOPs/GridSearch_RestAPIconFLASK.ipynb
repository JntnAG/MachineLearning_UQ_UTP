{
  "nbformat": 4,
  "nbformat_minor": 0,
  "metadata": {
    "colab": {
      "provenance": []
    },
    "kernelspec": {
      "name": "python3",
      "display_name": "Python 3"
    },
    "language_info": {
      "name": "python"
    }
  },
  "cells": [
    {
      "cell_type": "markdown",
      "source": [
        "#Modelo de ML con GridSearch"
      ],
      "metadata": {
        "id": "68u5lZ451Dhr"
      }
    },
    {
      "cell_type": "code",
      "source": [
        "import numpy as np\n",
        "from sklearn.model_selection import GridSearchCV\n",
        "from sklearn.ensemble import RandomForestClassifier\n",
        "from sklearn.datasets import make_classification\n",
        "from sklearn.model_selection import train_test_split\n",
        "\n",
        "# Crear un conjunto de datos sintético\n",
        "X, y = make_classification(n_samples=1000, n_features=20, random_state=42)\n",
        "\n",
        "# Dividir el conjunto de datos en entrenamiento y prueba\n",
        "X_train, X_test, y_train, y_test = train_test_split(X, y, test_size=0.2, random_state=42)\n",
        "\n",
        "# Definir el modelo\n",
        "model = RandomForestClassifier(random_state=42)\n",
        "\n",
        "# Definir el grid de parámetros\n",
        "param_grid = {\n",
        "    'n_estimators': [10, 50, 100],\n",
        "    'max_depth': [1, 10, 20, 30],\n",
        "    'min_samples_split': [2, 5, 10]\n",
        "}\n",
        "\n",
        "# Definir GridSearchCV\n",
        "grid_search = GridSearchCV(estimator=model, param_grid=param_grid, cv=5, n_jobs=-1, verbose=2)\n",
        "\n",
        "# Entrenar el modelo con GridSearchCV\n",
        "grid_search.fit(X_train, y_train)\n",
        "\n",
        "# Mostrar los mejores parámetros\n",
        "print(\"Mejores hiperparámetros encontrados:\", grid_search.best_params_)\n"
      ],
      "metadata": {
        "id": "uO6jzWw6kaBS",
        "outputId": "e1cb9934-84f0-4d45-99f7-ac2c4256ff4d",
        "colab": {
          "base_uri": "https://localhost:8080/"
        }
      },
      "execution_count": 1,
      "outputs": [
        {
          "output_type": "stream",
          "name": "stdout",
          "text": [
            "Fitting 5 folds for each of 36 candidates, totalling 180 fits\n",
            "Mejores hiperparámetros encontrados: {'max_depth': 20, 'min_samples_split': 5, 'n_estimators': 50}\n"
          ]
        }
      ]
    },
    {
      "cell_type": "markdown",
      "source": [
        "#Predicción"
      ],
      "metadata": {
        "id": "D7g4I7j6Oohx"
      }
    },
    {
      "cell_type": "code",
      "source": [
        "import numpy as np\n",
        "from sklearn.naive_bayes import GaussianNB\n",
        "from sklearn.datasets import load_iris\n",
        "from sklearn.model_selection import train_test_split\n",
        "import pickle\n",
        "\n",
        "iris = load_iris()\n",
        "model = GaussianNB()\n",
        "\n",
        "X_train, X_test, y_train, y_test = train_test_split(iris.data, iris.target, test_size=0.1)\n",
        "model_f = model.fit(X_train, y_train)\n",
        "\n",
        "print(\"Model score: \", model.score(X_train, y_train))\n",
        "print(\"Test Accuracy: \", model.score(X_test, y_test))\n",
        "\n",
        "pickle.dump(model_f, open(\"model_gb.pkl\", \"wb\"))"
      ],
      "metadata": {
        "id": "Q3fbTQ-OOq4A",
        "outputId": "0ca7298f-6c77-4cff-9d57-91a7c8f3a3d0",
        "colab": {
          "base_uri": "https://localhost:8080/"
        }
      },
      "execution_count": 2,
      "outputs": [
        {
          "output_type": "stream",
          "name": "stdout",
          "text": [
            "Model score:  0.9629629629629629\n",
            "Test Accuracy:  0.9333333333333333\n"
          ]
        }
      ]
    },
    {
      "cell_type": "code",
      "source": [
        "%%writefile main.html\n",
        "<!DOCTYPE html>\n",
        "<html>\n",
        "<body>\n",
        "    <h2>Introduce 4 valores flotantes</h2>\n",
        "    <form method=\"POST\" action=\"result\">\n",
        "        <label for=\"float1\">Float 1:</label><br>\n",
        "        <input type=\"text\" id=\"float1\" name=\"float1\"><br><br>\n",
        "\n",
        "        <label for=\"float2\">Float 2:</label><br>\n",
        "        <input type=\"text\" id=\"float2\" name=\"float2\"><br><br>\n",
        "\n",
        "        <label for=\"float3\">Float 3:</label><br>\n",
        "        <input type=\"text\" id=\"float3\" name=\"float3\"><br><br>\n",
        "\n",
        "        <label for=\"float4\">Float 4:</label><br>\n",
        "        <input type=\"text\" id=\"float4\" name=\"float4\"><br><br>\n",
        "\n",
        "        <input type=\"submit\" value=\"Enviar\">\n",
        "    </form>\n",
        "</body>\n",
        "</html>"
      ],
      "metadata": {
        "id": "ya_Q5OhuOuwN",
        "outputId": "02fe56e7-da35-4ac0-c79a-61388056ef2d",
        "colab": {
          "base_uri": "https://localhost:8080/"
        }
      },
      "execution_count": 3,
      "outputs": [
        {
          "output_type": "stream",
          "name": "stdout",
          "text": [
            "Writing main.html\n"
          ]
        }
      ]
    },
    {
      "cell_type": "markdown",
      "source": [
        "#Flask"
      ],
      "metadata": {
        "id": "JDsB0x4RYIg2"
      }
    },
    {
      "cell_type": "markdown",
      "source": [
        "Usaremos flask-ngrok para crear un servidor y proponer una URL publica"
      ],
      "metadata": {
        "id": "62gu1Z6AURO_"
      }
    },
    {
      "cell_type": "code",
      "source": [
        "!pip install flask-ngrok\n",
        "!pip install flask\n",
        "!pip install pyngrok"
      ],
      "metadata": {
        "colab": {
          "base_uri": "https://localhost:8080/"
        },
        "id": "dR-iCf8cUEdP",
        "outputId": "10949241-d53b-4c4e-eb78-4a910de1d8c8"
      },
      "execution_count": 4,
      "outputs": [
        {
          "output_type": "stream",
          "name": "stdout",
          "text": [
            "Collecting flask-ngrok\n",
            "  Downloading flask_ngrok-0.0.25-py3-none-any.whl.metadata (1.8 kB)\n",
            "Requirement already satisfied: Flask>=0.8 in /usr/local/lib/python3.10/dist-packages (from flask-ngrok) (2.2.5)\n",
            "Requirement already satisfied: requests in /usr/local/lib/python3.10/dist-packages (from flask-ngrok) (2.32.3)\n",
            "Requirement already satisfied: Werkzeug>=2.2.2 in /usr/local/lib/python3.10/dist-packages (from Flask>=0.8->flask-ngrok) (3.0.4)\n",
            "Requirement already satisfied: Jinja2>=3.0 in /usr/local/lib/python3.10/dist-packages (from Flask>=0.8->flask-ngrok) (3.1.4)\n",
            "Requirement already satisfied: itsdangerous>=2.0 in /usr/local/lib/python3.10/dist-packages (from Flask>=0.8->flask-ngrok) (2.2.0)\n",
            "Requirement already satisfied: click>=8.0 in /usr/local/lib/python3.10/dist-packages (from Flask>=0.8->flask-ngrok) (8.1.7)\n",
            "Requirement already satisfied: charset-normalizer<4,>=2 in /usr/local/lib/python3.10/dist-packages (from requests->flask-ngrok) (3.3.2)\n",
            "Requirement already satisfied: idna<4,>=2.5 in /usr/local/lib/python3.10/dist-packages (from requests->flask-ngrok) (3.8)\n",
            "Requirement already satisfied: urllib3<3,>=1.21.1 in /usr/local/lib/python3.10/dist-packages (from requests->flask-ngrok) (2.0.7)\n",
            "Requirement already satisfied: certifi>=2017.4.17 in /usr/local/lib/python3.10/dist-packages (from requests->flask-ngrok) (2024.8.30)\n",
            "Requirement already satisfied: MarkupSafe>=2.0 in /usr/local/lib/python3.10/dist-packages (from Jinja2>=3.0->Flask>=0.8->flask-ngrok) (2.1.5)\n",
            "Downloading flask_ngrok-0.0.25-py3-none-any.whl (3.1 kB)\n",
            "Installing collected packages: flask-ngrok\n",
            "Successfully installed flask-ngrok-0.0.25\n",
            "Requirement already satisfied: flask in /usr/local/lib/python3.10/dist-packages (2.2.5)\n",
            "Requirement already satisfied: Werkzeug>=2.2.2 in /usr/local/lib/python3.10/dist-packages (from flask) (3.0.4)\n",
            "Requirement already satisfied: Jinja2>=3.0 in /usr/local/lib/python3.10/dist-packages (from flask) (3.1.4)\n",
            "Requirement already satisfied: itsdangerous>=2.0 in /usr/local/lib/python3.10/dist-packages (from flask) (2.2.0)\n",
            "Requirement already satisfied: click>=8.0 in /usr/local/lib/python3.10/dist-packages (from flask) (8.1.7)\n",
            "Requirement already satisfied: MarkupSafe>=2.0 in /usr/local/lib/python3.10/dist-packages (from Jinja2>=3.0->flask) (2.1.5)\n",
            "Collecting pyngrok\n",
            "  Downloading pyngrok-7.2.0-py3-none-any.whl.metadata (7.4 kB)\n",
            "Requirement already satisfied: PyYAML>=5.1 in /usr/local/lib/python3.10/dist-packages (from pyngrok) (6.0.2)\n",
            "Downloading pyngrok-7.2.0-py3-none-any.whl (22 kB)\n",
            "Installing collected packages: pyngrok\n",
            "Successfully installed pyngrok-7.2.0\n"
          ]
        }
      ]
    },
    {
      "cell_type": "code",
      "source": [
        "import getpass\n",
        "import os\n",
        "import threading\n",
        "from flask import Flask\n",
        "from pyngrok import ngrok, conf\n",
        "\n",
        "print(\"Enter your authtoken, which can be copied from https://dashboard.ngrok.com/get-started/your-authtoken\")\n",
        "conf.get_default().auth_token = getpass.getpass()"
      ],
      "metadata": {
        "colab": {
          "base_uri": "https://localhost:8080/"
        },
        "id": "i2eQUK7xUtmO",
        "outputId": "c3dcd576-2caf-43de-d064-519190d297ea"
      },
      "execution_count": 5,
      "outputs": [
        {
          "name": "stdout",
          "output_type": "stream",
          "text": [
            "Enter your authtoken, which can be copied from https://dashboard.ngrok.com/get-started/your-authtoken\n",
            "··········\n"
          ]
        }
      ]
    },
    {
      "cell_type": "code",
      "source": [
        "from flask import Flask, render_template, request\n",
        "from flask_ngrok import run_with_ngrok\n",
        "app = Flask(__name__, template_folder='/content')\n",
        "\n",
        "\n",
        "print(ngrok.connect(5000).public_url)\n",
        "run_with_ngrok(app)\n",
        "\n",
        "\n",
        "@app.route(\"/\")\n",
        "def home():\n",
        "    return render_template('main.html')\n",
        "\n",
        "@app.route('/test')\n",
        "def test():\n",
        "    return \"Flask is working!\"\n",
        "\n",
        "@app.route('/result', methods=['POST'])\n",
        "def pred():\n",
        "     # Obtener los valores del formulario\n",
        "    float1 =  float(request.form.get('float1'))\n",
        "    float2 =  float(request.form.get('float2'))\n",
        "    float3 =  float(request.form.get('float3'))\n",
        "    float4 =  float(request.form.get('float4'))\n",
        "    p=np.array([float1,float2,float3,float4])\n",
        "\n",
        "    loaded_model = pickle.load(open(\"model_gb.pkl\", \"rb\"))\n",
        "    # Definir los tipos de iris\n",
        "    iris_types = {\n",
        "        0: 'setosa',\n",
        "        1: 'versicolor',\n",
        "        2: 'virginica'\n",
        "    }\n",
        "    # Hacer predicciones\n",
        "    prediction = model.predict([p])\n",
        "    if prediction[0] == 0:\n",
        "      label='setosa'\n",
        "    elif prediction[0] == 1:\n",
        "      label='versicolor'\n",
        "    elif prediction[0] == 2:\n",
        "      label='virginica'\n",
        "    print(label)\n",
        "    return label\n",
        "\n",
        "\n",
        "app.run()"
      ],
      "metadata": {
        "colab": {
          "base_uri": "https://localhost:8080/"
        },
        "id": "nUpeKclPVKXe",
        "outputId": "faa371ae-229e-4676-8281-ef0eac7180ec"
      },
      "execution_count": 7,
      "outputs": [
        {
          "output_type": "stream",
          "name": "stdout",
          "text": [
            "https://94cd-34-150-210-185.ngrok-free.app\n",
            " * Serving Flask app '__main__'\n",
            " * Debug mode: off\n"
          ]
        },
        {
          "output_type": "stream",
          "name": "stderr",
          "text": [
            "INFO:werkzeug:\u001b[31m\u001b[1mWARNING: This is a development server. Do not use it in a production deployment. Use a production WSGI server instead.\u001b[0m\n",
            " * Running on http://127.0.0.1:5000\n",
            "INFO:werkzeug:\u001b[33mPress CTRL+C to quit\u001b[0m\n"
          ]
        },
        {
          "output_type": "stream",
          "name": "stdout",
          "text": [
            " * Running on http://94cd-34-150-210-185.ngrok-free.app\n",
            " * Traffic stats available on http://127.0.0.1:4040\n"
          ]
        },
        {
          "output_type": "stream",
          "name": "stderr",
          "text": [
            "INFO:werkzeug:127.0.0.1 - - [13/Sep/2024 05:16:53] \"GET / HTTP/1.1\" 200 -\n",
            "INFO:werkzeug:127.0.0.1 - - [13/Sep/2024 05:16:53] \"\u001b[33mGET /favicon.ico HTTP/1.1\u001b[0m\" 404 -\n",
            "INFO:werkzeug:127.0.0.1 - - [13/Sep/2024 05:16:58] \"POST /result HTTP/1.1\" 200 -\n"
          ]
        },
        {
          "output_type": "stream",
          "name": "stdout",
          "text": [
            "virginica\n"
          ]
        },
        {
          "output_type": "stream",
          "name": "stderr",
          "text": [
            "INFO:werkzeug:127.0.0.1 - - [13/Sep/2024 05:17:08] \"POST /result HTTP/1.1\" 200 -\n"
          ]
        },
        {
          "output_type": "stream",
          "name": "stdout",
          "text": [
            "virginica\n"
          ]
        }
      ]
    }
  ]
}