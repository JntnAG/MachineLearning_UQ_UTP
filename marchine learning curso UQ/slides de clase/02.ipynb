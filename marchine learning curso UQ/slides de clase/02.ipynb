{
  "nbformat": 4,
  "nbformat_minor": 0,
  "metadata": {
    "colab": {
      "provenance": []
    },
    "kernelspec": {
      "name": "python3",
      "display_name": "Python 3"
    }
  },
  "cells": [
    {
      "cell_type": "markdown",
      "metadata": {
        "id": "HYXJuZ4NWtJQ"
      },
      "source": [
        "#Python basics\n",
        "\n",
        "Import libraries to work with:\n",
        "\n",
        "```import nombre_libreria as apodo``` to be used as ```apodo.method```, ```apodo.class``` or ```apodo.attribute```\n",
        "\n",
        "```from nombre_libreria import elemento as apodo``` to be used as ```apodo.method```, ```apodo.class``` or ```apodo.attribute```\n",
        "\n",
        "\n",
        "\n"
      ]
    },
    {
      "cell_type": "code",
      "metadata": {
        "id": "usA_YlhpTMda"
      },
      "source": [
        "import numpy as np #Librería de operaciones numéricas\n",
        "import matplotlib.pyplot as plt  #Librería de graficación"
      ],
      "execution_count": null,
      "outputs": []
    },
    {
      "cell_type": "markdown",
      "source": [
        "For instance, compute $sin(2\\pi)$:"
      ],
      "metadata": {
        "id": "FbeJIMZ1vRHP"
      }
    },
    {
      "cell_type": "code",
      "metadata": {
        "colab": {
          "base_uri": "https://localhost:8080/"
        },
        "id": "zWBMxxojH_vZ",
        "outputId": "f156ba7e-65c7-48bf-d280-fa10dd72ae3a"
      },
      "source": [
        "np.sin(np.pi)"
      ],
      "execution_count": null,
      "outputs": [
        {
          "output_type": "execute_result",
          "data": {
            "text/plain": [
              "1.2246467991473532e-16"
            ]
          },
          "metadata": {},
          "execution_count": 2
        }
      ]
    },
    {
      "cell_type": "markdown",
      "source": [
        "Most of the models are already implemented as classes. So, a class (with arguments, attributes, and methods) is defined as:"
      ],
      "metadata": {
        "id": "U13yXoI4vdRF"
      }
    },
    {
      "cell_type": "code",
      "metadata": {
        "id": "nrcsJhunyJoL",
        "colab": {
          "base_uri": "https://localhost:8080/"
        },
        "outputId": "f8d7b406-f57a-4d02-fd1e-3342db25360e"
      },
      "source": [
        "class Person():\n",
        "  #__init__: método\n",
        "  def __init__(self,name,age=0,nat=None): #name argumento\n",
        "    self.name = name #self.age atributo\n",
        "    self.age = age\n",
        "    self.nat = nat\n",
        "  def introduce(self,lang='en'):\n",
        "    if lang == 'es':\n",
        "      print('Buenas. Mi nombre es',self.name)\n",
        "      print('Tengo',self.age)\n",
        "      if self.nat is not None:\n",
        "        print('Soy de {}'.format(self.nat))\n",
        "    elif lang == 'en':\n",
        "      print('Hi! My name is',self.name,'\\nI am {} y/o'.format(self.age))\n",
        "      if self.nat is not None:\n",
        "        print('I am from {}'.format(self.nat))\n",
        "\n",
        "p1 = Person('Mauricio',5,'FR') #Objeto\n",
        "p2 = Person('Camila',4)\n",
        "p3 = Person('Bryan',nat='US',age=1)\n",
        "\n",
        "print(p1.nat)\n",
        "p1.name, p1.age\n",
        "p2.name, p2.age\n",
        "\n",
        "p2.introduce()\n",
        "p1.introduce('es')\n",
        "p3.introduce()"
      ],
      "execution_count": null,
      "outputs": [
        {
          "output_type": "stream",
          "name": "stdout",
          "text": [
            "FR\n",
            "Hi! My name is Camila \n",
            "I am 4 y/o\n",
            "Buenas. Mi nombre es Mauricio\n",
            "Tengo 5\n",
            "Soy de FR\n",
            "Hi! My name is Bryan \n",
            "I am 1 y/o\n",
            "I am from US\n"
          ]
        }
      ]
    },
    {
      "cell_type": "markdown",
      "metadata": {
        "id": "cQou6z4EX734"
      },
      "source": [
        "##Arrays\n",
        "An array object represents a multidimensional, homogeneous array of fixed-size items. An associated data-type object describes the format of each element in the array (its byte-order, how many bytes it occupies in memory, whether it is an integer, a floating point number, or something else, etc.)\n",
        "[numpy ndarray.](https://numpy.org/doc/stable/reference/generated/numpy.ndarray.html)\n",
        "\n",
        "Some useful methods and attributes are the following:"
      ]
    },
    {
      "cell_type": "code",
      "metadata": {
        "id": "k0640eUCTbfK",
        "colab": {
          "base_uri": "https://localhost:8080/"
        },
        "outputId": "b68a167d-2a32-4a02-9abe-fac103f85cc5"
      },
      "source": [
        "X = np.arange(-1,9,2)\n",
        "print(X)\n",
        "print(X.size)\n",
        "print(X.shape)"
      ],
      "execution_count": null,
      "outputs": [
        {
          "output_type": "stream",
          "name": "stdout",
          "text": [
            "[-1  1  3  5  7]\n",
            "5\n",
            "(5,)\n"
          ]
        }
      ]
    },
    {
      "cell_type": "code",
      "metadata": {
        "id": "F3_AiEriTlbQ",
        "colab": {
          "base_uri": "https://localhost:8080/"
        },
        "outputId": "e2924020-304a-4bf6-a1b8-f36a7471eac0"
      },
      "source": [
        "A = np.arange(1,13,0.5).reshape((6,4))\n",
        "print(A)\n",
        "print(A.size,A.shape)"
      ],
      "execution_count": null,
      "outputs": [
        {
          "output_type": "stream",
          "name": "stdout",
          "text": [
            "[[ 1.   1.5  2.   2.5]\n",
            " [ 3.   3.5  4.   4.5]\n",
            " [ 5.   5.5  6.   6.5]\n",
            " [ 7.   7.5  8.   8.5]\n",
            " [ 9.   9.5 10.  10.5]\n",
            " [11.  11.5 12.  12.5]]\n",
            "24 (6, 4)\n"
          ]
        }
      ]
    },
    {
      "cell_type": "code",
      "source": [
        "B = np.linspace(0,10,6)\n",
        "print(B)"
      ],
      "metadata": {
        "colab": {
          "base_uri": "https://localhost:8080/"
        },
        "id": "J-nZP5oPoz-O",
        "outputId": "8933725d-ac27-4dc2-cf04-c9661a71ab00"
      },
      "execution_count": null,
      "outputs": [
        {
          "output_type": "stream",
          "name": "stdout",
          "text": [
            "[ 0.  2.  4.  6.  8. 10.]\n"
          ]
        }
      ]
    },
    {
      "cell_type": "code",
      "metadata": {
        "id": "7JqVbxc1Ttqx",
        "colab": {
          "base_uri": "https://localhost:8080/"
        },
        "outputId": "90424266-5227-40c9-efed-a9649faab6e6"
      },
      "source": [
        "Z = np.zeros((4,3,5))\n",
        "Z"
      ],
      "execution_count": null,
      "outputs": [
        {
          "output_type": "execute_result",
          "data": {
            "text/plain": [
              "array([[[0., 0., 0., 0., 0.],\n",
              "        [0., 0., 0., 0., 0.],\n",
              "        [0., 0., 0., 0., 0.]],\n",
              "\n",
              "       [[0., 0., 0., 0., 0.],\n",
              "        [0., 0., 0., 0., 0.],\n",
              "        [0., 0., 0., 0., 0.]],\n",
              "\n",
              "       [[0., 0., 0., 0., 0.],\n",
              "        [0., 0., 0., 0., 0.],\n",
              "        [0., 0., 0., 0., 0.]],\n",
              "\n",
              "       [[0., 0., 0., 0., 0.],\n",
              "        [0., 0., 0., 0., 0.],\n",
              "        [0., 0., 0., 0., 0.]]])"
            ]
          },
          "metadata": {},
          "execution_count": 70
        }
      ]
    },
    {
      "cell_type": "code",
      "metadata": {
        "id": "dsOWyNjcYCjw",
        "colab": {
          "base_uri": "https://localhost:8080/"
        },
        "outputId": "ea27bd20-55c5-4d98-b60d-d0815b54815a"
      },
      "source": [
        "NUM_VIDEOS,TIME,ROW,COL,COLOR = 10,5,30,40,3\n",
        "U = np.ones((NUM_VIDEOS,TIME,ROW,COL,COLOR))\n",
        "U.shape"
      ],
      "execution_count": null,
      "outputs": [
        {
          "output_type": "execute_result",
          "data": {
            "text/plain": [
              "(10, 5, 30, 40, 3)"
            ]
          },
          "metadata": {},
          "execution_count": 82
        }
      ]
    },
    {
      "cell_type": "code",
      "metadata": {
        "id": "fkfsO8E_YDxq",
        "colab": {
          "base_uri": "https://localhost:8080/"
        },
        "outputId": "5b467ab1-0e69-48db-983d-e9b77a53cae2"
      },
      "source": [
        "R = np.random.normal(loc=10,scale=0.1,size=(6,6))\n",
        "R"
      ],
      "execution_count": null,
      "outputs": [
        {
          "output_type": "execute_result",
          "data": {
            "text/plain": [
              "array([[10.03946913,  9.90210018,  9.91477262, 10.03375031,  9.94969246,\n",
              "         9.98518912],\n",
              "       [10.08903823, 10.10489901, 10.00118954,  9.963903  ,  9.81362952,\n",
              "        10.12295407],\n",
              "       [10.06143854,  9.91299008, 10.23846475,  9.93034539,  9.9118524 ,\n",
              "         9.9259817 ],\n",
              "       [ 9.89207413,  9.95662514, 10.03022034,  9.96775452, 10.08348977,\n",
              "         9.91083975],\n",
              "       [10.02513434,  9.98297807,  9.71656678, 10.04041106,  9.77508264,\n",
              "         9.94458787],\n",
              "       [ 9.98004296, 10.02446648, 10.16010786,  9.70280991,  9.92937072,\n",
              "         9.8105078 ]])"
            ]
          },
          "metadata": {},
          "execution_count": 8
        }
      ]
    },
    {
      "cell_type": "markdown",
      "metadata": {
        "id": "jOpjzylm6Kh2"
      },
      "source": [
        "##Lists:\n",
        "Lists are used to store multiple items in a single variable."
      ]
    },
    {
      "cell_type": "code",
      "metadata": {
        "id": "q9WJPEWj6Npq",
        "colab": {
          "base_uri": "https://localhost:8080/"
        },
        "outputId": "35bcac56-bc3e-4079-ec84-9e46f2a442bb"
      },
      "source": [
        "lista1 = ['a','b',123,p1]\n",
        "print(lista1)\n",
        "print(lista1[2])\n",
        "\n",
        "lista2=[p1,p2,p3]\n",
        "print(lista2)\n",
        "\n",
        "for i in [0,1,2]:\n",
        "  lista2[i].introduce()\n",
        "\n",
        "for i in np.arange(len(lista2)):\n",
        "  lista2[i].introduce()\n",
        "\n",
        "for persona in lista2:\n",
        "  persona.introduce()\n",
        "\n",
        "for i,persona in enumerate(lista2):\n",
        "  print(i)\n",
        "  persona.introduce()\n",
        "\n",
        "\n",
        "letras = ['a','b','c']\n",
        "numeros = ['10','20','30']\n",
        "\n",
        "for l,n,p in zip(letras,numeros,lista2):\n",
        "  print(l,n)\n",
        "  print(p.introduce())\n"
      ],
      "execution_count": null,
      "outputs": [
        {
          "output_type": "stream",
          "name": "stdout",
          "text": [
            "['a', 'b', 123, <__main__.Person object at 0x7f04ca082290>]\n",
            "123\n",
            "[<__main__.Person object at 0x7f04ca082290>, <__main__.Person object at 0x7f04ca082250>, <__main__.Person object at 0x7f04ca0820d0>]\n",
            "Hi! My name is Mauricio \n",
            "I am 5 y/o\n",
            "I am from FR\n",
            "Hi! My name is Camila \n",
            "I am 4 y/o\n",
            "Hi! My name is Bryan \n",
            "I am 1 y/o\n",
            "I am from US\n",
            "Hi! My name is Mauricio \n",
            "I am 5 y/o\n",
            "I am from FR\n",
            "Hi! My name is Camila \n",
            "I am 4 y/o\n",
            "Hi! My name is Bryan \n",
            "I am 1 y/o\n",
            "I am from US\n",
            "Hi! My name is Mauricio \n",
            "I am 5 y/o\n",
            "I am from FR\n",
            "Hi! My name is Camila \n",
            "I am 4 y/o\n",
            "Hi! My name is Bryan \n",
            "I am 1 y/o\n",
            "I am from US\n",
            "0\n",
            "Hi! My name is Mauricio \n",
            "I am 5 y/o\n",
            "I am from FR\n",
            "1\n",
            "Hi! My name is Camila \n",
            "I am 4 y/o\n",
            "2\n",
            "Hi! My name is Bryan \n",
            "I am 1 y/o\n",
            "I am from US\n",
            "a 10\n",
            "Hi! My name is Mauricio \n",
            "I am 5 y/o\n",
            "I am from FR\n",
            "None\n",
            "b 20\n",
            "Hi! My name is Camila \n",
            "I am 4 y/o\n",
            "None\n",
            "c 30\n",
            "Hi! My name is Bryan \n",
            "I am 1 y/o\n",
            "I am from US\n",
            "None\n"
          ]
        }
      ]
    },
    {
      "cell_type": "markdown",
      "source": [
        "A list comprehension embeds for loops while building lists:"
      ],
      "metadata": {
        "id": "8UtuXyk7xhnY"
      }
    },
    {
      "cell_type": "code",
      "metadata": {
        "id": "ia2Cwj756-Ed",
        "colab": {
          "base_uri": "https://localhost:8080/"
        },
        "outputId": "dd7d22c1-114b-4e6d-e914-981eb8022c61"
      },
      "source": [
        "lista3 = []\n",
        "for i in np.arange(11):\n",
        "  lista3.append(i**2)\n",
        "  print(lista3)\n",
        "\n",
        "lista3 = [i**2 for i in np.arange(11)]\n",
        "print(lista3)\n",
        "\n",
        "lista3 = [i**2 for i in np.arange(11) if i**2>20]\n",
        "print(lista3)\n",
        "\n",
        "lista3 = [i**2 if i**2>20 else -10 for i in np.arange(11) ]\n",
        "print(lista3)\n"
      ],
      "execution_count": null,
      "outputs": [
        {
          "output_type": "stream",
          "name": "stdout",
          "text": [
            "[0]\n",
            "[0, 1]\n",
            "[0, 1, 4]\n",
            "[0, 1, 4, 9]\n",
            "[0, 1, 4, 9, 16]\n",
            "[0, 1, 4, 9, 16, 25]\n",
            "[0, 1, 4, 9, 16, 25, 36]\n",
            "[0, 1, 4, 9, 16, 25, 36, 49]\n",
            "[0, 1, 4, 9, 16, 25, 36, 49, 64]\n",
            "[0, 1, 4, 9, 16, 25, 36, 49, 64, 81]\n",
            "[0, 1, 4, 9, 16, 25, 36, 49, 64, 81, 100]\n",
            "[0, 1, 4, 9, 16, 25, 36, 49, 64, 81, 100]\n",
            "[25, 36, 49, 64, 81, 100]\n",
            "[-10, -10, -10, -10, -10, 25, 36, 49, 64, 81, 100]\n"
          ]
        }
      ]
    },
    {
      "cell_type": "markdown",
      "source": [
        "A numpy array can be built from lists of lists of lists.... of scalars."
      ],
      "metadata": {
        "id": "3IhGvtU5xwpZ"
      }
    },
    {
      "cell_type": "code",
      "metadata": {
        "id": "zX3ESa4VUABh",
        "colab": {
          "base_uri": "https://localhost:8080/"
        },
        "outputId": "d9ec1bc5-9ec0-4a53-e02b-bd06def4e5d1"
      },
      "source": [
        "X = np.array([[5,1],[-9,3],[40,1.1],[0.5,7],[1,2]])\n",
        "print(X)\n",
        "print(X.shape)"
      ],
      "execution_count": null,
      "outputs": [
        {
          "output_type": "stream",
          "name": "stdout",
          "text": [
            "[[ 5.   1. ]\n",
            " [-9.   3. ]\n",
            " [40.   1.1]\n",
            " [ 0.5  7. ]\n",
            " [ 1.   2. ]]\n",
            "(5, 2)\n"
          ]
        }
      ]
    },
    {
      "cell_type": "markdown",
      "source": [
        "## Dictionaries\n",
        "\n",
        "Dictionaries are used to store data values in key:value pairs.\n",
        "\n",
        "A dictionary is a collection which is ordered*, changeable and do not allow duplicates."
      ],
      "metadata": {
        "id": "ppISwZBOxYKd"
      }
    },
    {
      "cell_type": "code",
      "source": [
        "P1 = {'name':'Luis',\n",
        "      'age':15,\n",
        "      'age':38,\n",
        "}\n",
        "\n",
        "P1['age']+=1\n",
        "print(P1)\n",
        "\n",
        "P1['lastname'] = 'Hernandez'\n",
        "print(P1)"
      ],
      "metadata": {
        "id": "_CxycnYvx49-",
        "colab": {
          "base_uri": "https://localhost:8080/"
        },
        "outputId": "d9fa3946-7931-4377-992b-7ec9e9e35aed"
      },
      "execution_count": null,
      "outputs": [
        {
          "output_type": "stream",
          "name": "stdout",
          "text": [
            "{'name': 'Luis', 'age': 39}\n",
            "{'name': 'Luis', 'age': 39, 'lastname': 'Hernandez'}\n"
          ]
        }
      ]
    },
    {
      "cell_type": "markdown",
      "metadata": {
        "id": "kMC-5F9hUHex"
      },
      "source": [
        "##Operations"
      ]
    },
    {
      "cell_type": "markdown",
      "source": [
        "### Unary Operations"
      ],
      "metadata": {
        "id": "Dp-EXeaOyXZE"
      }
    },
    {
      "cell_type": "code",
      "metadata": {
        "id": "kVjRFXJJUP7B",
        "colab": {
          "base_uri": "https://localhost:8080/"
        },
        "outputId": "5e8e7339-a845-449c-bbd8-905996e759e0"
      },
      "source": [
        "x = np.arange(0,100,2)\n",
        "np.exp(x),np.cos(x) #unary"
      ],
      "execution_count": null,
      "outputs": [
        {
          "output_type": "execute_result",
          "data": {
            "text/plain": [
              "(array([1.00000000e+00, 7.38905610e+00, 5.45981500e+01, 4.03428793e+02,\n",
              "        2.98095799e+03, 2.20264658e+04, 1.62754791e+05, 1.20260428e+06,\n",
              "        8.88611052e+06, 6.56599691e+07, 4.85165195e+08, 3.58491285e+09,\n",
              "        2.64891221e+10, 1.95729609e+11, 1.44625706e+12, 1.06864746e+13,\n",
              "        7.89629602e+13, 5.83461743e+14, 4.31123155e+15, 3.18559318e+16,\n",
              "        2.35385267e+17, 1.73927494e+18, 1.28516001e+19, 9.49611942e+19,\n",
              "        7.01673591e+20, 5.18470553e+21, 3.83100800e+22, 2.83075330e+23,\n",
              "        2.09165950e+24, 1.54553894e+25, 1.14200739e+26, 8.43835667e+26,\n",
              "        6.23514908e+27, 4.60718663e+28, 3.40427605e+29, 2.51543867e+30,\n",
              "        1.85867175e+31, 1.37338298e+32, 1.01480039e+33, 7.49841700e+33,\n",
              "        5.54062238e+34, 4.09399696e+35, 3.02507732e+36, 2.23524660e+37,\n",
              "        1.65163625e+38, 1.22040329e+39, 9.01762841e+39, 6.66317622e+40,\n",
              "        4.92345829e+41, 3.63797095e+42]),\n",
              " array([ 1.        , -0.41614684, -0.65364362,  0.96017029, -0.14550003,\n",
              "        -0.83907153,  0.84385396,  0.13673722, -0.95765948,  0.66031671,\n",
              "         0.40808206, -0.99996083,  0.42417901,  0.64691932, -0.96260587,\n",
              "         0.15425145,  0.83422336, -0.84857027, -0.12796369,  0.95507364,\n",
              "        -0.66693806, -0.39998531,  0.99984331, -0.43217794, -0.64014434,\n",
              "         0.96496603, -0.16299078, -0.82930983,  0.85322011,  0.11918014,\n",
              "        -0.95241298,  0.67350716,  0.39185723, -0.99964746,  0.44014302,\n",
              "         0.6333192 , -0.96725059,  0.17171734,  0.82433133, -0.85780309,\n",
              "        -0.11038724,  0.9496777 , -0.6800235 , -0.38369844,  0.99937328,\n",
              "        -0.44807362, -0.62644445,  0.96945937, -0.18043045, -0.81928825]))"
            ]
          },
          "metadata": {},
          "execution_count": 15
        }
      ]
    },
    {
      "cell_type": "markdown",
      "source": [
        "### Binary Operations"
      ],
      "metadata": {
        "id": "YEGOWfK5ybBl"
      }
    },
    {
      "cell_type": "code",
      "metadata": {
        "id": "JT-lsxj5UI8j",
        "colab": {
          "base_uri": "https://localhost:8080/"
        },
        "outputId": "3a89215d-3561-4161-c0bb-ca844f1d88f9"
      },
      "source": [
        "x = np.array([1, 2, 4, 8])\n",
        "y = np.array([2, 2, 2, 2])\n",
        "x+y,x*y,x/y,x**y"
      ],
      "execution_count": null,
      "outputs": [
        {
          "output_type": "execute_result",
          "data": {
            "text/plain": [
              "(array([ 3,  4,  6, 10]),\n",
              " array([ 2,  4,  8, 16]),\n",
              " array([0.5, 1. , 2. , 4. ]),\n",
              " array([ 1,  4, 16, 64]))"
            ]
          },
          "metadata": {},
          "execution_count": 18
        }
      ]
    },
    {
      "cell_type": "code",
      "metadata": {
        "colab": {
          "base_uri": "https://localhost:8080/"
        },
        "id": "5WxqqeW4Q9wM",
        "outputId": "cf49f8ec-f23b-4b41-d0d5-2d021fd120ac"
      },
      "source": [
        "x = np.array([1, 2, 4, 8])\n",
        "y = 3\n",
        "x+y,x*y,x/y,x**y"
      ],
      "execution_count": null,
      "outputs": [
        {
          "output_type": "execute_result",
          "data": {
            "text/plain": [
              "(array([ 4,  5,  7, 11]),\n",
              " array([ 3,  6, 12, 24]),\n",
              " array([0.33333333, 0.66666667, 1.33333333, 2.66666667]),\n",
              " array([  1,   8,  64, 512]))"
            ]
          },
          "metadata": {},
          "execution_count": 19
        }
      ]
    },
    {
      "cell_type": "markdown",
      "source": [
        "There is a method for concatenating two or more arrays along a given axis:"
      ],
      "metadata": {
        "id": "_gYx5nEVytDl"
      }
    },
    {
      "cell_type": "code",
      "metadata": {
        "id": "RWyTsMJuUUBo",
        "colab": {
          "base_uri": "https://localhost:8080/"
        },
        "outputId": "671d025e-557b-445c-e2a4-19abf16fc283"
      },
      "source": [
        "X = np.arange(12).reshape(3, 4)\n",
        "print('X:',X.shape)\n",
        "print(X)\n",
        "Y = np.array([[2, 1, 4, 3], [1, 2, 3, 4], [4, 3, 2, 1]])\n",
        "print('Y:',Y.shape)\n",
        "print(Y)\n",
        "\n",
        "#  5 x 2\n",
        "# 10 x 2\n",
        "#--------\n",
        "# 15 x 2\n",
        "\n",
        "# 30 x 8\n",
        "# 30 x 4\n",
        "#-------\n",
        "# 30 x 12\n",
        "\n",
        "# 5 x 6 x 500\n",
        "# 5 x 6 x 1000\n",
        "#--------------\n",
        "# 5 x 6 x 1500\n",
        "\n",
        "Z=np.concatenate((X,Y))\n",
        "print(Z.shape)\n",
        "NZ=np.concatenate((X,Y),axis=1)\n",
        "print(NZ.shape)"
      ],
      "execution_count": null,
      "outputs": [
        {
          "output_type": "stream",
          "name": "stdout",
          "text": [
            "X: (3, 4)\n",
            "[[ 0  1  2  3]\n",
            " [ 4  5  6  7]\n",
            " [ 8  9 10 11]]\n",
            "Y: (3, 4)\n",
            "[[2 1 4 3]\n",
            " [1 2 3 4]\n",
            " [4 3 2 1]]\n",
            "(6, 4)\n",
            "(3, 8)\n"
          ]
        }
      ]
    },
    {
      "cell_type": "markdown",
      "metadata": {
        "id": "d7lFb8Z-Ygmg"
      },
      "source": [
        "Logical operations are also element-wise applied:"
      ]
    },
    {
      "cell_type": "code",
      "metadata": {
        "id": "-pThBqwqU4ng",
        "colab": {
          "base_uri": "https://localhost:8080/"
        },
        "outputId": "ab603436-9e53-428c-8a1f-4f4204bbb3d1"
      },
      "source": [
        "X == 4"
      ],
      "execution_count": null,
      "outputs": [
        {
          "output_type": "execute_result",
          "data": {
            "text/plain": [
              "array([[False, False, False, False],\n",
              "       [ True, False, False, False],\n",
              "       [False, False, False, False]])"
            ]
          },
          "metadata": {},
          "execution_count": 24
        }
      ]
    },
    {
      "cell_type": "code",
      "metadata": {
        "colab": {
          "base_uri": "https://localhost:8080/"
        },
        "id": "3N3zxxUQUlY6",
        "outputId": "6fcb9095-0da4-4960-b2d8-57b2e08133fb"
      },
      "source": [
        "X != Y"
      ],
      "execution_count": null,
      "outputs": [
        {
          "output_type": "execute_result",
          "data": {
            "text/plain": [
              "array([[ True, False,  True, False],\n",
              "       [ True,  True,  True,  True],\n",
              "       [ True,  True,  True,  True]])"
            ]
          },
          "metadata": {},
          "execution_count": 25
        }
      ]
    },
    {
      "cell_type": "markdown",
      "metadata": {
        "id": "LCN6wA5OYmyQ"
      },
      "source": [
        "Numpy arrays are objects with useful methods:"
      ]
    },
    {
      "cell_type": "code",
      "metadata": {
        "id": "FsYwwfo2U9SR",
        "colab": {
          "base_uri": "https://localhost:8080/"
        },
        "outputId": "153eb846-8277-4a72-d503-c356e198aff9"
      },
      "source": [
        "np.sum(X)\n",
        "X.sum()\n",
        "X.mean()\n",
        "X.var()\n",
        "M=X.mean(axis=0)\n",
        "print(M,M.shape)"
      ],
      "execution_count": null,
      "outputs": [
        {
          "output_type": "stream",
          "name": "stdout",
          "text": [
            "[4. 5. 6. 7.] (4,)\n"
          ]
        }
      ]
    },
    {
      "cell_type": "markdown",
      "metadata": {
        "id": "coqO_N2KVNJC"
      },
      "source": [
        "##Broadcasting\n",
        "\n",
        "This property propagates (when possible) a binary operation:"
      ]
    },
    {
      "cell_type": "code",
      "metadata": {
        "id": "tenVu5YrVOsC",
        "colab": {
          "base_uri": "https://localhost:8080/"
        },
        "outputId": "23aa1acd-3766-46a0-daab-c6310e4fafe7"
      },
      "source": [
        "a = np.arange(3).reshape(3, 1)\n",
        "b = np.array([-1,0,1]).reshape(1,3)\n",
        "print('a:',a.shape,type(a))\n",
        "print(a)\n",
        "print('b:',b.shape)\n",
        "print(b)"
      ],
      "execution_count": null,
      "outputs": [
        {
          "output_type": "stream",
          "name": "stdout",
          "text": [
            "a: (3, 1) <class 'numpy.ndarray'>\n",
            "[[0]\n",
            " [1]\n",
            " [2]]\n",
            "b: (1, 3)\n",
            "[[-1  0  1]]\n"
          ]
        }
      ]
    },
    {
      "cell_type": "code",
      "metadata": {
        "id": "oN2xxyYRVYeB",
        "colab": {
          "base_uri": "https://localhost:8080/"
        },
        "outputId": "3c80415d-c5fb-4a89-cb6f-fd33bd7fc7a0"
      },
      "source": [
        "C = a+b\n",
        "print('C:',C.shape,type(C))\n",
        "print(C)"
      ],
      "execution_count": null,
      "outputs": [
        {
          "output_type": "stream",
          "name": "stdout",
          "text": [
            "C: (3, 3) <class 'numpy.ndarray'>\n",
            "[[-1  0  1]\n",
            " [ 0  1  2]\n",
            " [ 1  2  3]]\n"
          ]
        }
      ]
    },
    {
      "cell_type": "markdown",
      "metadata": {
        "id": "Oz3JwiPgVo-B"
      },
      "source": [
        "##Indexing and slicing\n",
        "\n",
        "\n"
      ]
    },
    {
      "cell_type": "code",
      "metadata": {
        "id": "9mdvrRHaVqrZ",
        "colab": {
          "base_uri": "https://localhost:8080/"
        },
        "outputId": "d53aae7f-c819-4504-9ac7-4611ab46f72b"
      },
      "source": [
        "print(X)\n",
        "print(X[1])\n",
        "print(X[1,2])\n",
        "print(X[1][2])\n"
      ],
      "execution_count": null,
      "outputs": [
        {
          "output_type": "stream",
          "name": "stdout",
          "text": [
            "[[ 0  1  2  3]\n",
            " [ 4  5  6  7]\n",
            " [ 8  9 10 11]]\n",
            "[4 5 6 7]\n",
            "6\n",
            "6\n"
          ]
        }
      ]
    },
    {
      "cell_type": "code",
      "metadata": {
        "colab": {
          "base_uri": "https://localhost:8080/"
        },
        "id": "5Z6PN-aZarm7",
        "outputId": "1888d5e2-d713-405e-c825-aac565437d26"
      },
      "source": [
        "print(X[:])\n",
        "print(X[1:])\n",
        "print(X[:1])\n",
        "print(X[-2:-1])"
      ],
      "execution_count": null,
      "outputs": [
        {
          "output_type": "stream",
          "name": "stdout",
          "text": [
            "[[ 0  1  2  3]\n",
            " [ 4  5  6  7]\n",
            " [ 8  9 10 11]]\n",
            "[[ 4  5  6  7]\n",
            " [ 8  9 10 11]]\n",
            "[[0 1 2 3]]\n",
            "[[4 5 6 7]]\n"
          ]
        }
      ]
    },
    {
      "cell_type": "code",
      "metadata": {
        "id": "Y0rk37RMV0Ah",
        "colab": {
          "base_uri": "https://localhost:8080/"
        },
        "outputId": "f8088660-753f-4329-f91d-a11cef9fb451"
      },
      "source": [
        "X[2][2]=20\n",
        "print(X)\n",
        "X[1]=5\n",
        "print(X)"
      ],
      "execution_count": null,
      "outputs": [
        {
          "output_type": "stream",
          "name": "stdout",
          "text": [
            "[[ 0  1  2  3]\n",
            " [ 4  5  6  7]\n",
            " [ 8  9 20 11]]\n",
            "[[ 0  1  2  3]\n",
            " [ 5  5  5  5]\n",
            " [ 8  9 20 11]]\n"
          ]
        }
      ]
    },
    {
      "cell_type": "code",
      "metadata": {
        "id": "ECJ5ZRe7V5Vx",
        "colab": {
          "base_uri": "https://localhost:8080/"
        },
        "outputId": "13356401-56ba-4e51-c863-1d62e278e00e"
      },
      "source": [],
      "execution_count": null,
      "outputs": [
        {
          "output_type": "stream",
          "name": "stdout",
          "text": [
            "[[12 12 12 12]\n",
            " [12 12 12 12]\n",
            " [ 8  9 10 11]]\n"
          ]
        }
      ]
    },
    {
      "cell_type": "code",
      "metadata": {
        "colab": {
          "base_uri": "https://localhost:8080/"
        },
        "id": "689GV6MCbTEl",
        "outputId": "6bd0ee24-5344-4c2e-9c73-92e2ba6f2b5c"
      },
      "source": [],
      "execution_count": null,
      "outputs": [
        {
          "output_type": "stream",
          "name": "stdout",
          "text": [
            "[[-1  0]\n",
            " [ 8 -2]] int64\n",
            "[[12 -1  0 12]\n",
            " [12  8 -2 12]\n",
            " [ 8  9 10 11]] int64\n"
          ]
        }
      ]
    },
    {
      "cell_type": "code",
      "metadata": {
        "id": "Ux2R1JtgDInZ",
        "colab": {
          "base_uri": "https://localhost:8080/"
        },
        "outputId": "66dac8a7-65d8-4a02-d52a-025dba49a1ea"
      },
      "source": [
        "L = [[2, 1, 4, 3], [1, 2, 3, 4], [4, 3, 2, 1],[2, 1, 4, 3], [1, 2, 3, 4], [4, 3, 2, 1]]\n",
        "print(type(L))\n",
        "print(L[4][1])"
      ],
      "execution_count": null,
      "outputs": [
        {
          "output_type": "stream",
          "name": "stdout",
          "text": [
            "<class 'list'>\n",
            "2\n"
          ]
        }
      ]
    },
    {
      "cell_type": "markdown",
      "metadata": {
        "id": "oop0-fxuV9zw"
      },
      "source": [
        "##Pointers and memory\n",
        "\n",
        "```id()``` function gives the exact address of the  referenced object in memory"
      ]
    },
    {
      "cell_type": "code",
      "metadata": {
        "id": "evLP-9MDV9KR",
        "colab": {
          "base_uri": "https://localhost:8080/"
        },
        "outputId": "2820fa81-67ea-4ca6-d352-91837eb3d14e"
      },
      "source": [
        "before = id(Y)\n",
        "Y = Y + X\n",
        "id(Y) == before"
      ],
      "execution_count": null,
      "outputs": [
        {
          "output_type": "execute_result",
          "data": {
            "text/plain": [
              "False"
            ]
          },
          "metadata": {},
          "execution_count": 47
        }
      ]
    },
    {
      "cell_type": "code",
      "metadata": {
        "id": "7yWQ27fzWiLR",
        "colab": {
          "base_uri": "https://localhost:8080/"
        },
        "outputId": "211dda9f-eae2-449d-f798-a1429046d7c6"
      },
      "source": [
        "before = id(X)\n",
        "X += Y\n",
        "id(X) == before"
      ],
      "execution_count": null,
      "outputs": [
        {
          "output_type": "execute_result",
          "data": {
            "text/plain": [
              "True"
            ]
          },
          "metadata": {},
          "execution_count": 48
        }
      ]
    },
    {
      "cell_type": "code",
      "metadata": {
        "id": "c5jc9Qp1WXGQ",
        "colab": {
          "base_uri": "https://localhost:8080/"
        },
        "outputId": "3aa145e5-ce6a-4123-e41c-057eb85291bd"
      },
      "source": [
        "Z = np.zeros_like(Y)\n",
        "print('id(Z):', id(Z))\n",
        "Z[:] = X + Y\n",
        "print('id(Z):', id(Z))"
      ],
      "execution_count": null,
      "outputs": [
        {
          "output_type": "stream",
          "name": "stdout",
          "text": [
            "id(Z): 140445302817200\n",
            "id(Z): 140445302817200\n"
          ]
        }
      ]
    },
    {
      "cell_type": "markdown",
      "metadata": {
        "id": "HdbtzKOkZM-n"
      },
      "source": [
        "#Linear algebra"
      ]
    },
    {
      "cell_type": "markdown",
      "metadata": {
        "id": "IlFhl4T0ZbfQ"
      },
      "source": [
        "##Scalars\n",
        "\n",
        "$x\\in\\mathbb{R}$\n",
        "\n",
        "$y\\in\\mathbb{C}$\n",
        "\n",
        "$z\\in\\{0,1\\}$"
      ]
    },
    {
      "cell_type": "code",
      "metadata": {
        "id": "kT4c2WpTZdj2"
      },
      "source": [
        "x = np.array(3.0)\n",
        "y = np.array(2.0)\n"
      ],
      "execution_count": null,
      "outputs": []
    },
    {
      "cell_type": "markdown",
      "metadata": {
        "id": "GunuSC_KaMDf"
      },
      "source": [
        "##Vectors\n",
        "\n",
        "$\\bf{x}$ $\\in\\mathbb{R}^N$\n",
        "\n",
        "$\\bf{y}$ $\\in\\mathbb{C}^N$\n",
        "\n",
        "$\\bf{z}$ $\\in\\{0,1\\}^N$"
      ]
    },
    {
      "cell_type": "code",
      "metadata": {
        "id": "VQdhP83Va4nn",
        "colab": {
          "base_uri": "https://localhost:8080/"
        },
        "outputId": "758030a8-1f12-452d-9519-32fa7f5c9c6e"
      },
      "source": [
        "x = np.arange(4)\n",
        "print(x)\n"
      ],
      "execution_count": null,
      "outputs": [
        {
          "output_type": "stream",
          "name": "stdout",
          "text": [
            "[0 1 2 3]\n"
          ]
        }
      ]
    },
    {
      "cell_type": "markdown",
      "metadata": {
        "id": "gF5aXyjNbQgR"
      },
      "source": [
        "##Matrices\n",
        "\n",
        "$\\bf{X}$ $\\in\\mathbb{R}^{N\\times M}$\n",
        "\n",
        "$\\bf{Y}$ $\\in\\mathbb{C}^{N\\times M}$\n",
        "\n",
        "$\\bf{Z}$ $\\in\\{0,1\\}^{N\\times M}$"
      ]
    },
    {
      "cell_type": "code",
      "metadata": {
        "id": "Zk0-Fssya89n",
        "colab": {
          "base_uri": "https://localhost:8080/"
        },
        "outputId": "40a82dd4-7a74-46e0-fb30-1d653cde7e72"
      },
      "source": [
        "A = np.arange(20).reshape(5, 4)\n",
        "print('A:',A.shape)"
      ],
      "execution_count": null,
      "outputs": [
        {
          "output_type": "stream",
          "name": "stdout",
          "text": [
            "A: (5, 4)\n"
          ]
        }
      ]
    },
    {
      "cell_type": "code",
      "metadata": {
        "id": "s-QBKPKjbpXA",
        "colab": {
          "base_uri": "https://localhost:8080/"
        },
        "outputId": "34339e38-abec-4e79-ad12-037e16b26534"
      },
      "source": [
        "B = np.array([[1, 2, 3], [2, 0, 4], [3, 4, 5]])\n",
        "print(B)\n",
        "print(B==B.T)"
      ],
      "execution_count": null,
      "outputs": [
        {
          "output_type": "stream",
          "name": "stdout",
          "text": [
            "[[1 2 3]\n",
            " [2 0 4]\n",
            " [3 4 5]]\n",
            "[[ True  True  True]\n",
            " [ True  True  True]\n",
            " [ True  True  True]]\n"
          ]
        }
      ]
    },
    {
      "cell_type": "markdown",
      "metadata": {
        "id": "t0z9AZIYbvqn"
      },
      "source": [
        "##Tensors\n",
        "\n",
        "$\\bf{X}$ $\\in\\mathbb{R}^{N_1\\times N_2 \\times N_3}$\n",
        "\n",
        "$\\bf{Y}$ $\\in\\mathbb{C}^{N_1\\times N_2 \\times N_3 \\times N_4}$\n",
        "\n",
        "$\\bf{Z}$ $\\in\\{0,1\\}^{N_1\\times N_2 \\times N_3 \\times \\dots}$"
      ]
    },
    {
      "cell_type": "code",
      "metadata": {
        "id": "09apc7OLbuP5",
        "colab": {
          "base_uri": "https://localhost:8080/"
        },
        "outputId": "1457b4cb-df72-4f5f-e154-e6dece681eaa"
      },
      "source": [
        "X = np.arange(24).reshape(2, 3, 4)\n",
        "print('X:',X.shape)\n",
        "print(X)"
      ],
      "execution_count": null,
      "outputs": [
        {
          "output_type": "stream",
          "name": "stdout",
          "text": [
            "X: (2, 3, 4)\n",
            "[[[ 0  1  2  3]\n",
            "  [ 4  5  6  7]\n",
            "  [ 8  9 10 11]]\n",
            "\n",
            " [[12 13 14 15]\n",
            "  [16 17 18 19]\n",
            "  [20 21 22 23]]]\n"
          ]
        }
      ]
    },
    {
      "cell_type": "code",
      "metadata": {
        "colab": {
          "base_uri": "https://localhost:8080/"
        },
        "id": "5Q0m5yVrhST5",
        "outputId": "6d610f89-d9db-4cca-86e3-6bbc75ad8d47"
      },
      "source": [
        "A = np.arange(20).reshape(5, 4)\n",
        "print(A)\n",
        "B = A #shallow copy / copia superficial\n",
        "B[2][1]= 20\n",
        "print(B)\n",
        "print(A)"
      ],
      "execution_count": null,
      "outputs": [
        {
          "output_type": "stream",
          "name": "stdout",
          "text": [
            "[[ 0  1  2  3]\n",
            " [ 4  5  6  7]\n",
            " [ 8  9 10 11]\n",
            " [12 13 14 15]\n",
            " [16 17 18 19]]\n",
            "[[ 0  1  2  3]\n",
            " [ 4  5  6  7]\n",
            " [ 8 20 10 11]\n",
            " [12 13 14 15]\n",
            " [16 17 18 19]]\n",
            "[[ 0  1  2  3]\n",
            " [ 4  5  6  7]\n",
            " [ 8 20 10 11]\n",
            " [12 13 14 15]\n",
            " [16 17 18 19]]\n"
          ]
        }
      ]
    },
    {
      "cell_type": "code",
      "metadata": {
        "id": "sGdsWlCac2OC",
        "colab": {
          "base_uri": "https://localhost:8080/"
        },
        "outputId": "cc0ce4b1-3f6d-4273-d397-8dc69f0c1d3f"
      },
      "source": [
        "import copy\n",
        "A = np.arange(20).reshape(5, 4)\n",
        "# Assign a copy of `A` to `B` by allocating new memory, deep copy:\n",
        "B = copy.deepcopy(A)\n",
        "B[2][1]= 20\n",
        "print(B)\n",
        "print(A)"
      ],
      "execution_count": null,
      "outputs": [
        {
          "output_type": "stream",
          "name": "stdout",
          "text": [
            "[[ 0  1  2  3]\n",
            " [ 4  5  6  7]\n",
            " [ 8 20 10 11]\n",
            " [12 13 14 15]\n",
            " [16 17 18 19]]\n",
            "[[ 0  1  2  3]\n",
            " [ 4  5  6  7]\n",
            " [ 8  9 10 11]\n",
            " [12 13 14 15]\n",
            " [16 17 18 19]]\n"
          ]
        }
      ]
    },
    {
      "cell_type": "markdown",
      "source": [
        "Sum and product by scalar sums and multiplies each array element by the given scalar (like a broadcasting):"
      ],
      "metadata": {
        "id": "ftl2XCC64ZC7"
      }
    },
    {
      "cell_type": "code",
      "metadata": {
        "id": "WpbjBbamdEZW",
        "colab": {
          "base_uri": "https://localhost:8080/"
        },
        "outputId": "1fcaf37f-007c-4081-d0c9-b1c14b9300a7"
      },
      "source": [
        "A*5\n",
        "print(A*5)"
      ],
      "execution_count": null,
      "outputs": [
        {
          "output_type": "stream",
          "name": "stdout",
          "text": [
            "[[ 0  5 10 15]\n",
            " [20 25 30 35]\n",
            " [40 45 50 55]\n",
            " [60 65 70 75]\n",
            " [80 85 90 95]]\n"
          ]
        }
      ]
    },
    {
      "cell_type": "markdown",
      "source": [
        "Some operations can perform along a given axis:"
      ],
      "metadata": {
        "id": "MeiBcwRw40qM"
      }
    },
    {
      "cell_type": "code",
      "metadata": {
        "id": "QN0korBlde0u",
        "colab": {
          "base_uri": "https://localhost:8080/"
        },
        "outputId": "df310bdb-2ec0-4bdd-eba5-0cc6ff111234"
      },
      "source": [
        "A.shape, A.sum()"
      ],
      "execution_count": null,
      "outputs": [
        {
          "output_type": "execute_result",
          "data": {
            "text/plain": [
              "((5, 4), 190)"
            ]
          },
          "metadata": {},
          "execution_count": 61
        }
      ]
    },
    {
      "cell_type": "code",
      "metadata": {
        "id": "pZd5fG7ydj2G",
        "colab": {
          "base_uri": "https://localhost:8080/"
        },
        "outputId": "0cb2737d-c25f-4def-ee82-4b9138169213"
      },
      "source": [
        "A_sum_axis0 = A.sum(axis=0)\n",
        "print(A_sum_axis0)"
      ],
      "execution_count": null,
      "outputs": [
        {
          "output_type": "stream",
          "name": "stdout",
          "text": [
            "[40 45 50 55]\n"
          ]
        }
      ]
    },
    {
      "cell_type": "code",
      "metadata": {
        "id": "GjVqEMy9d9sn",
        "colab": {
          "base_uri": "https://localhost:8080/"
        },
        "outputId": "3aa503b8-09a9-45cd-bc41-0980ed1fdf50"
      },
      "source": [
        "A_sum_axis1 = A.sum(axis=1)\n",
        "print(A_sum_axis1)"
      ],
      "execution_count": null,
      "outputs": [
        {
          "output_type": "stream",
          "name": "stdout",
          "text": [
            "[ 6 22 38 54 70]\n"
          ]
        }
      ]
    },
    {
      "cell_type": "code",
      "metadata": {
        "id": "-9RiZXrfeFkv",
        "colab": {
          "base_uri": "https://localhost:8080/"
        },
        "outputId": "eb406d83-241a-462b-bc78-22aff276426d"
      },
      "source": [
        "A.sum(axis=None) # Same as `A.sum()`"
      ],
      "execution_count": null,
      "outputs": [
        {
          "output_type": "execute_result",
          "data": {
            "text/plain": [
              "190"
            ]
          },
          "metadata": {},
          "execution_count": 67
        }
      ]
    },
    {
      "cell_type": "code",
      "metadata": {
        "id": "JYlIB2DTeNwP",
        "colab": {
          "base_uri": "https://localhost:8080/"
        },
        "outputId": "d8acde8d-f7f2-437d-e9dc-a1d3453e5ea1"
      },
      "source": [
        "print(A.size)\n",
        "print(A.mean())\n",
        "print(A.sum())\n",
        "print(A.sum() / A.size)"
      ],
      "execution_count": null,
      "outputs": [
        {
          "output_type": "stream",
          "name": "stdout",
          "text": [
            "20\n",
            "9.5\n",
            "190\n",
            "9.5\n"
          ]
        }
      ]
    },
    {
      "cell_type": "code",
      "metadata": {
        "id": "NmlXMJWqed5o",
        "colab": {
          "base_uri": "https://localhost:8080/"
        },
        "outputId": "4945cb5f-824a-4213-8c0c-39e2ea8ab21f"
      },
      "source": [
        "print(A)\n",
        "print(A.shape[1])\n",
        "A.mean(axis=0), A.sum(axis=0) / A.shape[0]"
      ],
      "execution_count": null,
      "outputs": [
        {
          "output_type": "stream",
          "name": "stdout",
          "text": [
            "[[ 0  1  2  3]\n",
            " [ 4  5  6  7]\n",
            " [ 8  9 10 11]\n",
            " [12 13 14 15]\n",
            " [16 17 18 19]]\n",
            "4\n"
          ]
        },
        {
          "output_type": "execute_result",
          "data": {
            "text/plain": [
              "(array([ 8.,  9., 10., 11.]), array([ 8.,  9., 10., 11.]))"
            ]
          },
          "metadata": {},
          "execution_count": 69
        }
      ]
    },
    {
      "cell_type": "markdown",
      "source": [
        "Try this:\n",
        "\n",
        "```\n",
        "A = np.arange(20).reshape(5, 4)\n",
        "A - A.mean(axis=1)\n",
        "```\n",
        "\n"
      ],
      "metadata": {
        "id": "CRjrCx3R5Nhn"
      }
    },
    {
      "cell_type": "code",
      "metadata": {
        "colab": {
          "base_uri": "https://localhost:8080/",
          "height": 186
        },
        "id": "losb5J59jJf3",
        "outputId": "349be5a4-8277-4168-9820-8f1e6eb41b47"
      },
      "source": [
        "A = np.arange(20).reshape(5, 4)\n",
        "A - A.mean(axis=1)"
      ],
      "execution_count": null,
      "outputs": [
        {
          "output_type": "error",
          "ename": "ValueError",
          "evalue": "ignored",
          "traceback": [
            "\u001b[0;31m---------------------------------------------------------------------------\u001b[0m",
            "\u001b[0;31mValueError\u001b[0m                                Traceback (most recent call last)",
            "\u001b[0;32m<ipython-input-70-dfacf4157dc6>\u001b[0m in \u001b[0;36m<module>\u001b[0;34m()\u001b[0m\n\u001b[1;32m      1\u001b[0m \u001b[0mA\u001b[0m \u001b[0;34m=\u001b[0m \u001b[0mnp\u001b[0m\u001b[0;34m.\u001b[0m\u001b[0marange\u001b[0m\u001b[0;34m(\u001b[0m\u001b[0;36m20\u001b[0m\u001b[0;34m)\u001b[0m\u001b[0;34m.\u001b[0m\u001b[0mreshape\u001b[0m\u001b[0;34m(\u001b[0m\u001b[0;36m5\u001b[0m\u001b[0;34m,\u001b[0m \u001b[0;36m4\u001b[0m\u001b[0;34m)\u001b[0m\u001b[0;34m\u001b[0m\u001b[0;34m\u001b[0m\u001b[0m\n\u001b[0;32m----> 2\u001b[0;31m \u001b[0mA\u001b[0m \u001b[0;34m-\u001b[0m \u001b[0mA\u001b[0m\u001b[0;34m.\u001b[0m\u001b[0mmean\u001b[0m\u001b[0;34m(\u001b[0m\u001b[0maxis\u001b[0m\u001b[0;34m=\u001b[0m\u001b[0;36m1\u001b[0m\u001b[0;34m)\u001b[0m\u001b[0;34m\u001b[0m\u001b[0;34m\u001b[0m\u001b[0m\n\u001b[0m",
            "\u001b[0;31mValueError\u001b[0m: operands could not be broadcast together with shapes (5,4) (5,) "
          ]
        }
      ]
    },
    {
      "cell_type": "markdown",
      "metadata": {
        "id": "0yzagy0ceilA"
      },
      "source": [
        "```keepdims=True``` avoids axis reduction:\n",
        "\n"
      ]
    },
    {
      "cell_type": "code",
      "metadata": {
        "id": "KaYiQVDXeg22",
        "colab": {
          "base_uri": "https://localhost:8080/"
        },
        "outputId": "31ccef04-27f9-449c-9d87-2e6a80e5c4a4"
      },
      "source": [
        "sum_A = A.sum(axis=1)\n",
        "sum_A_nonred = A.sum(axis=1, keepdims=True)\n",
        "print(A.shape)\n",
        "print(sum_A.shape)\n",
        "print(sum_A_nonred.shape)\n",
        "print(A)\n",
        "print(sum_A)\n",
        "print(sum_A_nonred)"
      ],
      "execution_count": null,
      "outputs": [
        {
          "output_type": "stream",
          "name": "stdout",
          "text": [
            "(5, 4)\n",
            "(5,)\n",
            "(5, 1)\n",
            "[[ 0  1  2  3]\n",
            " [ 4  5  6  7]\n",
            " [ 8  9 10 11]\n",
            " [12 13 14 15]\n",
            " [16 17 18 19]]\n",
            "[ 6 22 38 54 70]\n",
            "[[ 6]\n",
            " [22]\n",
            " [38]\n",
            " [54]\n",
            " [70]]\n"
          ]
        }
      ]
    },
    {
      "cell_type": "code",
      "metadata": {
        "id": "w-jAF8BIfgdA",
        "colab": {
          "base_uri": "https://localhost:8080/",
          "height": 168
        },
        "outputId": "a6ede7d4-4de2-4256-8665-f232c0db4dcd"
      },
      "source": [
        "A / sum_A"
      ],
      "execution_count": null,
      "outputs": [
        {
          "output_type": "error",
          "ename": "ValueError",
          "evalue": "ignored",
          "traceback": [
            "\u001b[0;31m---------------------------------------------------------------------------\u001b[0m",
            "\u001b[0;31mValueError\u001b[0m                                Traceback (most recent call last)",
            "\u001b[0;32m<ipython-input-72-eb858b1cf923>\u001b[0m in \u001b[0;36m<module>\u001b[0;34m()\u001b[0m\n\u001b[0;32m----> 1\u001b[0;31m \u001b[0mA\u001b[0m \u001b[0;34m/\u001b[0m \u001b[0msum_A\u001b[0m\u001b[0;34m\u001b[0m\u001b[0;34m\u001b[0m\u001b[0m\n\u001b[0m",
            "\u001b[0;31mValueError\u001b[0m: operands could not be broadcast together with shapes (5,4) (5,) "
          ]
        }
      ]
    },
    {
      "cell_type": "code",
      "metadata": {
        "id": "w0Z0lrWYfj0e",
        "colab": {
          "base_uri": "https://localhost:8080/"
        },
        "outputId": "006982a8-5fa8-4376-f617-0fcbb2872f40"
      },
      "source": [
        "P = A / sum_A_nonred\n",
        "print(P)\n",
        "print(P.sum(axis=1))"
      ],
      "execution_count": null,
      "outputs": [
        {
          "output_type": "stream",
          "name": "stdout",
          "text": [
            "[[0.         0.16666667 0.33333333 0.5       ]\n",
            " [0.18181818 0.22727273 0.27272727 0.31818182]\n",
            " [0.21052632 0.23684211 0.26315789 0.28947368]\n",
            " [0.22222222 0.24074074 0.25925926 0.27777778]\n",
            " [0.22857143 0.24285714 0.25714286 0.27142857]]\n",
            "[1. 1. 1. 1. 1.]\n"
          ]
        }
      ]
    },
    {
      "cell_type": "code",
      "metadata": {
        "id": "Xds58rGFkEJg",
        "colab": {
          "base_uri": "https://localhost:8080/"
        },
        "outputId": "1a53f1eb-ec82-4762-c3c0-6b19366f385c"
      },
      "source": [
        "print(A)\n",
        "print(A.mean(axis=0,keepdims=True))\n",
        "A - A.mean(axis=0,keepdims=True)"
      ],
      "execution_count": null,
      "outputs": [
        {
          "output_type": "stream",
          "name": "stdout",
          "text": [
            "[[ 0  1  2  3]\n",
            " [ 4  5  6  7]\n",
            " [ 8  9 10 11]\n",
            " [12 13 14 15]\n",
            " [16 17 18 19]]\n",
            "[[ 8.  9. 10. 11.]]\n"
          ]
        },
        {
          "output_type": "execute_result",
          "data": {
            "text/plain": [
              "array([[-8., -8., -8., -8.],\n",
              "       [-4., -4., -4., -4.],\n",
              "       [ 0.,  0.,  0.,  0.],\n",
              "       [ 4.,  4.,  4.,  4.],\n",
              "       [ 8.,  8.,  8.,  8.]])"
            ]
          },
          "metadata": {},
          "execution_count": 74
        }
      ]
    },
    {
      "cell_type": "markdown",
      "metadata": {
        "id": "UeoG8z2Nft5v"
      },
      "source": [
        "## Dot product\n",
        "\n",
        "$\\bf{x}^\\top\\bf{y}=<\\bf{x},\\bf{y}>$$=\\sum_{i}{x_iy_i}$"
      ]
    },
    {
      "cell_type": "code",
      "metadata": {
        "id": "klRCu80EfwCe",
        "colab": {
          "base_uri": "https://localhost:8080/"
        },
        "outputId": "ffccb7ed-9cd4-4cdb-9077-e4e9f72a272f"
      },
      "source": [
        "x=np.array([1,2,3])\n",
        "y=np.array([4,5,6])\n",
        "(x*y).sum()\n",
        "np.dot(x,y)\n",
        "x.dot(y)"
      ],
      "execution_count": null,
      "outputs": [
        {
          "output_type": "execute_result",
          "data": {
            "text/plain": [
              "32"
            ]
          },
          "metadata": {},
          "execution_count": 80
        }
      ]
    },
    {
      "cell_type": "markdown",
      "metadata": {
        "id": "HV28hNzhglPI"
      },
      "source": [
        "```dot()``` also performs matrix-vector products:"
      ]
    },
    {
      "cell_type": "code",
      "metadata": {
        "id": "19nlTO-_ghVC",
        "colab": {
          "base_uri": "https://localhost:8080/"
        },
        "outputId": "9bb6f79a-799d-4d5f-9e33-4a99e6d51fae"
      },
      "source": [
        "T=np.arange(15).reshape((5,3))\n",
        "T.dot(x)"
      ],
      "execution_count": null,
      "outputs": [
        {
          "output_type": "execute_result",
          "data": {
            "text/plain": [
              "array([ 8, 26, 44, 62, 80])"
            ]
          },
          "metadata": {},
          "execution_count": 82
        }
      ]
    },
    {
      "cell_type": "markdown",
      "metadata": {
        "id": "RrYocDsBg5Ce"
      },
      "source": [
        "```dot()``` also performs matrix-matrix products:"
      ]
    },
    {
      "cell_type": "code",
      "metadata": {
        "id": "ORY7KD3Jg-Q4",
        "colab": {
          "base_uri": "https://localhost:8080/"
        },
        "outputId": "2cf098e1-66bf-4550-f856-a671d87b59ed"
      },
      "source": [
        "S=np.arange(15).reshape((3,5))\n",
        "S.dot(T)"
      ],
      "execution_count": null,
      "outputs": [
        {
          "output_type": "execute_result",
          "data": {
            "text/plain": [
              "array([[ 90, 100, 110],\n",
              "       [240, 275, 310],\n",
              "       [390, 450, 510]])"
            ]
          },
          "metadata": {},
          "execution_count": 83
        }
      ]
    },
    {
      "cell_type": "markdown",
      "metadata": {
        "id": "Y5pK4oIVhUfH"
      },
      "source": [
        "## Norms\n",
        "\n",
        "L2 norm:\n",
        "$||\\bf{x}$$||_2=(\\sum_{i}{x_i^2})^{1/2}$"
      ]
    },
    {
      "cell_type": "code",
      "metadata": {
        "id": "EClzO4vIhVme",
        "colab": {
          "base_uri": "https://localhost:8080/"
        },
        "outputId": "4edf0866-4c80-4d1e-acaa-f565a959888a"
      },
      "source": [
        "u = np.array([3, -4])\n",
        "N= np.sqrt(np.sum(u**2))\n",
        "print(N)\n",
        "np.linalg.norm(u)"
      ],
      "execution_count": null,
      "outputs": [
        {
          "output_type": "stream",
          "name": "stdout",
          "text": [
            "5.0\n"
          ]
        },
        {
          "output_type": "execute_result",
          "data": {
            "text/plain": [
              "5.0"
            ]
          },
          "metadata": {},
          "execution_count": 86
        }
      ]
    },
    {
      "cell_type": "markdown",
      "metadata": {
        "id": "YqB-Wp1EiJFO"
      },
      "source": [
        "L1 norm:\n",
        "$||\\bf{x}$$||_1=\\sum_{i}{|x_i|}$"
      ]
    },
    {
      "cell_type": "code",
      "metadata": {
        "id": "HgTfQCfTiQVl",
        "colab": {
          "base_uri": "https://localhost:8080/"
        },
        "outputId": "2e51634c-222f-443e-bdc1-ded03afefb78"
      },
      "source": [
        "r = np.linalg.norm(u,1)\n",
        "print(r)\n"
      ],
      "execution_count": null,
      "outputs": [
        {
          "output_type": "stream",
          "name": "stdout",
          "text": [
            "7.0\n"
          ]
        }
      ]
    },
    {
      "cell_type": "markdown",
      "metadata": {
        "id": "qa6dC0HkiUT9"
      },
      "source": [
        "Lp norm:\n",
        "$||\\bf{x}$$||_p=(\\sum_{i}{|x_i|^p})^{1/p}$"
      ]
    },
    {
      "cell_type": "code",
      "metadata": {
        "id": "j5CzDAo1igF2",
        "colab": {
          "base_uri": "https://localhost:8080/"
        },
        "outputId": "6c206332-7005-491e-864d-31d7a4206ef1"
      },
      "source": [
        "u = np.array([-0.1,5e-3,1/12])\n",
        "n = np.linalg.norm(u,np.infty)\n",
        "print(n)"
      ],
      "execution_count": null,
      "outputs": [
        {
          "output_type": "stream",
          "name": "stdout",
          "text": [
            "0.1\n"
          ]
        }
      ]
    },
    {
      "cell_type": "markdown",
      "metadata": {
        "id": "LoIQDbs6vTsZ"
      },
      "source": [
        "#Probabilities\n",
        "\n",
        "## Joint Probability\n",
        "\n",
        "Given any values $a$ and $b$, the joint probability $P(A = a; B = b)$ lets us answer, what is the probability that $A = a$ and $B = b$ **simultaneously**?\n",
        "\n",
        "## Marginalization\n",
        "One important operation that we need is marginalization. It is the operation of determining $P(B)$ from $P(A; B)$. We can see that the probability of $B$ amounts to accounting for all possible choices of $A$ and aggregating the joint probabilities over all of them:\n",
        "\n",
        "$P(B) = \\sum_A P(A; B)$\n",
        "\n",
        "$A = \\{Ma,Pe,Ba\\}$\n",
        "\n",
        "$B = \\{Alta,Baja\\}$\n",
        "\n",
        "$P(B=Alta)=P(Ma;Alta) + P(Ba;Alta) + P(Pe;Alta)$\n",
        "\n",
        "$P(B=Baja)=P(Ma;Baja) + P(Ba;Baja) + P(Pe;Baja)$\n",
        "\n",
        "$P(B=Baja)+P(B=Alta)=1$\n",
        "\n",
        "which is also known as **the sum rule**. The probability or distribution as a result of marginalization\n",
        "is called a **marginal probability** or a **marginal distribution**.\n",
        "\n",
        "## Conditional Probability\n",
        "Note that for any values $a$ and $b$:\n",
        "\n",
        "$P(A = a; B = b) \\leq P(A = a)$.\n",
        "\n",
        "This has to be the case, since for $A = a$ and $B = b$ to happen, $A = a$ has to happen and $B = b$ also has to happen (and vice versa). Thus, $A = a$ and $B = b$ cannot be more likely than $A = a$ or $B = b$ individually.\n",
        "\n",
        "This brings us to an interesting ratio:\n",
        "\n",
        "$0 \\leq \\frac{P(A = a; B = b)}{P(A = a)} \\leq 1$\n",
        "\n",
        "We call this ratio a **conditional probability** and denote it by\n",
        "\n",
        "$P(B = b | A = a)$\n",
        "\n",
        "It is the probability of $B = b$, provided that $A = a$ has occurred.\n",
        "\n",
        "$P(B=Alta|A=Ba)=\\frac{P(B=Alta,A=Ba)}{P(A=Ba)}$\n",
        "\n",
        "$P(B=Alta,A=Ba) = P(B=Alta|A=Ba)P(A=Ba)$\n",
        "\n",
        "\n",
        "## Bayes' theorem\n",
        "\n",
        "Using the definition of conditional probabilities, we can derive one of the most useful and celebrated equations in statistics: Bayes' theorem. It goes as follows:\n",
        "\n",
        "By construction, we have the **multiplication rule** that\n",
        "\n",
        "$P(A; B) = P(B | A)P(A)$\n",
        "\n",
        "By symmetry, this also holds for\n",
        "\n",
        "$P(A; B) = P(A | B)P(B)$\n",
        "\n",
        "Solving for one of the conditional variables we get\n",
        "$P(A | B) = \\frac{P(B | A)P(A)}{P(B)}$\n",
        "\n",
        "\n",
        "$P(A=spam | B) = \\frac{0.7 * 0.1 }{0.754}= \\frac{0.07}{0.754}$\n",
        "\n",
        "$P(A=no spam | B) = \\frac{0.005 * 0.9}{0.754} = \\frac{0.0045}{0.754}$\n"
      ]
    },
    {
      "cell_type": "markdown",
      "metadata": {
        "id": "VQRhLCK-yiqA"
      },
      "source": [
        "## Example\n",
        "Assume that a doctor administers a cancer test to a patient. This test is fairly accurate and it fails only with 1% probability if the patient is healthy but reporting\n",
        "him as diseased. Moreover, it never fails to detect cancer if the patient actually has it. We use $D_1$ to\n",
        "indicate the diagnosis (1 if positive and 0 if negative) and $H$ to denote the cancer status (1 if positive\n",
        "and 0 if negative). Such conditional probabilities are as follows:\n",
        "\n",
        "$P(D_1=1|H=1)=1$\n",
        "\n",
        "$P(D_1=0|H=1)=0$\n",
        "\n",
        "$P(D_1=1|H=0)=0.01$\n",
        "\n",
        "$P(D_1=0|H=0)=0.99$\n",
        "\n",
        "\n",
        "Let us work out the probability of the patient having cancer if the test comes back positive, i.e., $P(H = 1 | D_1 = 1)$. Obviously this is going to depend on how common the disease is, since it affects the number of false alarms. Assume that the population is quite healthy, e.g., $P(H = 1) = 0.0015$.\n",
        "\n",
        "To apply Bayes' theorem, we need to apply marginalization and the multiplication rule to determine\n",
        "\n",
        "$P(D_1)=P(D_1;H=0)+P(D_1;H=1)$\n",
        "\n",
        "$P(D_1=0)=P(D_1=0|H=0)P(H=0)+P(D_1=0|H=1)P(H=1)$\n",
        "\n",
        "$P(D_1=1)=P(D_1=1|H=0)P(H=0)+P(D_1=1|H=1)P(H=1)$"
      ]
    },
    {
      "cell_type": "code",
      "metadata": {
        "id": "AC-n8XbPzyGp",
        "colab": {
          "base_uri": "https://localhost:8080/"
        },
        "outputId": "ce83186f-df32-4786-b045-d3c325c938dc"
      },
      "source": [
        "# Cond 2 x 2\n",
        "cond = np.zeros((2,2)) #D_1 | H\n",
        "cond[0][0],cond[0][1],cond[1][0],cond[1][1] = 0.99,0,0.01,1\n",
        "print('Conditional:\\n',cond)\n",
        "print(cond.sum(axis=0))\n",
        "\n",
        "# Marginal / a-priori\n",
        "prior = np.zeros((2,)) # H\n",
        "prior[0],prior[1]=1-0.0015,0.0015\n",
        "print('Prior:',prior,prior.sum())\n",
        "\n",
        "#Conj 2 x 2\n",
        "conj = np.zeros((2,2)) #D_1 , H\n",
        "conj[0][0],conj[0][1],conj[1][0],conj[1][1]=cond[0][0]*prior[0],cond[0][1]*prior[1],cond[1][0]*prior[0],cond[1][1]*prior[1]\n",
        "print('Joint\\t:\\n',conj) #\\t tab , \\n enter\n",
        "print(conj.sum())\n",
        "\n",
        "#{P(D1)}\n",
        "evidence = conj.sum(axis=1)\n",
        "prior=prior.reshape((1,2))\n",
        "joint = 0\n",
        "print('Joint\\t:\\n',joint)\n",
        "\n",
        "\n",
        "post = np.zeros((2,2))\n",
        "print('Posterior:\\n',post)"
      ],
      "execution_count": null,
      "outputs": [
        {
          "output_type": "stream",
          "name": "stdout",
          "text": [
            "Conditional:\n",
            " [[0.99 0.  ]\n",
            " [0.01 1.  ]]\n",
            "[1. 1.]\n",
            "Prior: [0.9985 0.0015] 1.0\n",
            "Joint\t:\n",
            " [[0.988515 0.      ]\n",
            " [0.009985 0.0015  ]]\n",
            "1.0\n",
            "Joint\t:\n",
            " 0\n",
            "Posterior:\n",
            " [[0. 0.]\n",
            " [0. 0.]]\n"
          ]
        }
      ]
    },
    {
      "cell_type": "markdown",
      "metadata": {
        "id": "2I6XGpgf1kEe"
      },
      "source": [
        "There is only a 13.06% chance that the patient actually has cancer, despite using a very accurate test.\n",
        "\n",
        "What should a patient do upon receiving such terrifying news? Likely, the patient would ask the physician to administer another test to get clarity. The second test has different characteristics and it is not as good as the first one:\n",
        "\n",
        "$P(D_2=1|H=1)=0.98$\n",
        "\n",
        "$P(D_2=0|H=1)=0.02$\n",
        "\n",
        "$P(D_2=1|H=0)=0.03$\n",
        "\n",
        "$P(D_2=0|H=0)=0.97$\n",
        "\n",
        "Unfortunately, the second test comes back positive, too. Let us work out the requisite probabilities to invoke Bayes' theorem by assuming the conditional independence:\n",
        "\n",
        "$P(D_1=1,D_2=1|H=0)=??$\n",
        "\n",
        "$P(D_1=1,D_2=1|H=1)=??$\n"
      ]
    },
    {
      "cell_type": "code",
      "metadata": {
        "id": "XS4M2i0U2RHP"
      },
      "source": [
        "#Compute P(D1;D2|H): P[0,0,0]\n"
      ],
      "execution_count": null,
      "outputs": []
    },
    {
      "cell_type": "markdown",
      "metadata": {
        "id": "WnbsZzVo2psV"
      },
      "source": [
        "Now we can apply marginalization and the multiplication rule to obtain the joint diagnosis probability:\n",
        "\n",
        "$P(D_1 = 1; D_2 = 1)=??$"
      ]
    },
    {
      "cell_type": "code",
      "metadata": {
        "id": "kdK9Q_TZ2pQG"
      },
      "source": [
        "#Compute P(D1;D2):\n"
      ],
      "execution_count": null,
      "outputs": []
    },
    {
      "cell_type": "markdown",
      "metadata": {
        "id": "xUcc9IK63Hpk"
      },
      "source": [
        "In the end, the probability of the patient having cancer given both positive tests is\n",
        "\n",
        "$P(H = 1 | D_1 = 1; D_2 = 1)=??$"
      ]
    },
    {
      "cell_type": "code",
      "metadata": {
        "id": "eC89jx4z3HHU"
      },
      "source": [
        "# Compute P(H = 1 | D_1 = 1; D_2 = 1)\n"
      ],
      "execution_count": null,
      "outputs": []
    },
    {
      "cell_type": "markdown",
      "metadata": {
        "id": "2pX9vEGs33Q_"
      },
      "source": [
        "## Gaussian distributions"
      ]
    },
    {
      "cell_type": "code",
      "metadata": {
        "id": "X00xgJ1S37GT"
      },
      "source": [
        "from scipy.io import loadmat\n",
        "\n",
        "data = loadmat('data.mat')\n",
        "print(data.keys())\n",
        "X = data['X']\n",
        "print(X.shape,type(X),X.dtype)\n",
        "\n",
        "plt.scatter(X[:,0],X[:,1])\n",
        "plt.axis('square')\n",
        "plt.xlim([-6,6])\n",
        "plt.ylim([-6,6])\n",
        "plt.grid()\n",
        "plt.show()"
      ],
      "execution_count": null,
      "outputs": []
    },
    {
      "cell_type": "code",
      "metadata": {
        "id": "k8SKT0Ow3_9L"
      },
      "source": [
        "#Cálculo de medias:\n",
        "m = np.mean(X,axis=0)\n",
        "print(m)\n",
        "m = X.mean(axis=0)\n",
        "print(m)\n",
        "\n",
        "#Cálculo de covarianza:\n",
        "\n",
        "#Valores y vectores propios: C@v = lambda*v\n"
      ],
      "execution_count": null,
      "outputs": []
    },
    {
      "cell_type": "code",
      "metadata": {
        "id": "4D-Spmh-4FMt"
      },
      "source": [
        "from scipy.stats import multivariate_normal\n",
        "\n",
        "#Probabilidades gaussianas:\n",
        "\n",
        "#Malla de valores:\n",
        "\n",
        "\n",
        "#Probabilidad sobre la malla:\n",
        "\n",
        "plt.scatter(X[:,0],X[:,1])\n",
        "\n",
        "plt.axis('square')\n",
        "plt.xlim([-6,6])\n",
        "plt.ylim([-6,6])\n",
        "plt.grid()\n",
        "plt.show()\n",
        "\n",
        "R = np.corrcoef(X,rowvar=False)\n",
        "print(R)"
      ],
      "execution_count": null,
      "outputs": []
    }
  ]
}